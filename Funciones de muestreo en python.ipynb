{
 "cells": [
  {
   "cell_type": "code",
   "execution_count": 3,
   "metadata": {},
   "outputs": [],
   "source": [
    "import pandas as pd\n",
    "import numpy as np\n",
    "import random\n",
    "import io"
   ]
  },
  {
   "cell_type": "markdown",
   "metadata": {},
   "source": [
    "### Leemos la base de datos a trabajar en nuestra ruta de origen"
   ]
  },
  {
   "cell_type": "code",
   "execution_count": 4,
   "metadata": {},
   "outputs": [],
   "source": [
    "econdata = pd.read_csv(\"econdata.csv\")"
   ]
  },
  {
   "cell_type": "code",
   "execution_count": 5,
   "metadata": {},
   "outputs": [
    {
     "data": {
      "text/html": [
       "<div>\n",
       "<style scoped>\n",
       "    .dataframe tbody tr th:only-of-type {\n",
       "        vertical-align: middle;\n",
       "    }\n",
       "\n",
       "    .dataframe tbody tr th {\n",
       "        vertical-align: top;\n",
       "    }\n",
       "\n",
       "    .dataframe thead th {\n",
       "        text-align: right;\n",
       "    }\n",
       "</style>\n",
       "<table border=\"1\" class=\"dataframe\">\n",
       "  <thead>\n",
       "    <tr style=\"text-align: right;\">\n",
       "      <th></th>\n",
       "      <th>id</th>\n",
       "      <th>geo_point_2d</th>\n",
       "      <th>geo_shape</th>\n",
       "      <th>clave_cat</th>\n",
       "      <th>delegacion</th>\n",
       "      <th>perimetro</th>\n",
       "      <th>tipo</th>\n",
       "      <th>nom_id</th>\n",
       "    </tr>\n",
       "  </thead>\n",
       "  <tbody>\n",
       "    <tr>\n",
       "      <th>0</th>\n",
       "      <td>0</td>\n",
       "      <td>19.424781053,-99.1327537959</td>\n",
       "      <td>{\"type\": \"Polygon\", \"coordinates\": [[[-99.1332...</td>\n",
       "      <td>307_130_11</td>\n",
       "      <td>Cuauhtémoc</td>\n",
       "      <td>B</td>\n",
       "      <td>Mercado</td>\n",
       "      <td>Pino Suárez</td>\n",
       "    </tr>\n",
       "    <tr>\n",
       "      <th>1</th>\n",
       "      <td>1</td>\n",
       "      <td>19.4346139576,-99.1413808393</td>\n",
       "      <td>{\"type\": \"MultiPoint\", \"coordinates\": [[-99.14...</td>\n",
       "      <td>002_008_01</td>\n",
       "      <td>Cuautémoc</td>\n",
       "      <td>A</td>\n",
       "      <td>Museo</td>\n",
       "      <td>Museo Nacional de Arquitectura Palacio de Bell...</td>\n",
       "    </tr>\n",
       "    <tr>\n",
       "      <th>2</th>\n",
       "      <td>2</td>\n",
       "      <td>19.4340695945,-99.1306348409</td>\n",
       "      <td>{\"type\": \"MultiPoint\", \"coordinates\": [[-99.13...</td>\n",
       "      <td>006_002_12</td>\n",
       "      <td>Cuautémoc</td>\n",
       "      <td>A</td>\n",
       "      <td>Museo</td>\n",
       "      <td>Santa Teresa</td>\n",
       "    </tr>\n",
       "    <tr>\n",
       "      <th>3</th>\n",
       "      <td>3</td>\n",
       "      <td>19.42489472,-99.12073393</td>\n",
       "      <td>{\"type\": \"MultiPoint\", \"coordinates\": [[-99.12...</td>\n",
       "      <td>323_102_06</td>\n",
       "      <td>Venustiano Carranza</td>\n",
       "      <td>B</td>\n",
       "      <td>Hotel</td>\n",
       "      <td>Balbuena</td>\n",
       "    </tr>\n",
       "    <tr>\n",
       "      <th>4</th>\n",
       "      <td>4</td>\n",
       "      <td>19.42358238,-99.12451093</td>\n",
       "      <td>{\"type\": \"MultiPoint\", \"coordinates\": [[-99.12...</td>\n",
       "      <td>323_115_12</td>\n",
       "      <td>Venustiano Carranza</td>\n",
       "      <td>B</td>\n",
       "      <td>Hotel</td>\n",
       "      <td>real</td>\n",
       "    </tr>\n",
       "  </tbody>\n",
       "</table>\n",
       "</div>"
      ],
      "text/plain": [
       "   id                  geo_point_2d  \\\n",
       "0   0   19.424781053,-99.1327537959   \n",
       "1   1  19.4346139576,-99.1413808393   \n",
       "2   2  19.4340695945,-99.1306348409   \n",
       "3   3      19.42489472,-99.12073393   \n",
       "4   4      19.42358238,-99.12451093   \n",
       "\n",
       "                                           geo_shape   clave_cat  \\\n",
       "0  {\"type\": \"Polygon\", \"coordinates\": [[[-99.1332...  307_130_11   \n",
       "1  {\"type\": \"MultiPoint\", \"coordinates\": [[-99.14...  002_008_01   \n",
       "2  {\"type\": \"MultiPoint\", \"coordinates\": [[-99.13...  006_002_12   \n",
       "3  {\"type\": \"MultiPoint\", \"coordinates\": [[-99.12...  323_102_06   \n",
       "4  {\"type\": \"MultiPoint\", \"coordinates\": [[-99.12...  323_115_12   \n",
       "\n",
       "            delegacion perimetro     tipo  \\\n",
       "0           Cuauhtémoc         B  Mercado   \n",
       "1            Cuautémoc         A    Museo   \n",
       "2            Cuautémoc         A    Museo   \n",
       "3  Venustiano Carranza         B    Hotel   \n",
       "4  Venustiano Carranza         B    Hotel   \n",
       "\n",
       "                                              nom_id  \n",
       "0                                        Pino Suárez  \n",
       "1  Museo Nacional de Arquitectura Palacio de Bell...  \n",
       "2                                       Santa Teresa  \n",
       "3                                           Balbuena  \n",
       "4                                               real  "
      ]
     },
     "execution_count": 5,
     "metadata": {},
     "output_type": "execute_result"
    }
   ],
   "source": [
    "econdata.head(5)"
   ]
  },
  {
   "cell_type": "markdown",
   "metadata": {},
   "source": [
    "### Funciones de muestreo"
   ]
  },
  {
   "cell_type": "markdown",
   "metadata": {},
   "source": [
    "## 1) Muestreo aleatorio simple"
   ]
  },
  {
   "cell_type": "code",
   "execution_count": 6,
   "metadata": {},
   "outputs": [
    {
     "data": {
      "text/html": [
       "<div>\n",
       "<style scoped>\n",
       "    .dataframe tbody tr th:only-of-type {\n",
       "        vertical-align: middle;\n",
       "    }\n",
       "\n",
       "    .dataframe tbody tr th {\n",
       "        vertical-align: top;\n",
       "    }\n",
       "\n",
       "    .dataframe thead th {\n",
       "        text-align: right;\n",
       "    }\n",
       "</style>\n",
       "<table border=\"1\" class=\"dataframe\">\n",
       "  <thead>\n",
       "    <tr style=\"text-align: right;\">\n",
       "      <th></th>\n",
       "      <th>id</th>\n",
       "      <th>geo_point_2d</th>\n",
       "      <th>geo_shape</th>\n",
       "      <th>clave_cat</th>\n",
       "      <th>delegacion</th>\n",
       "      <th>perimetro</th>\n",
       "      <th>tipo</th>\n",
       "      <th>nom_id</th>\n",
       "    </tr>\n",
       "  </thead>\n",
       "  <tbody>\n",
       "    <tr>\n",
       "      <th>63</th>\n",
       "      <td>63</td>\n",
       "      <td>19.4339116282,-99.1468371035</td>\n",
       "      <td>{\"type\": \"MultiPoint\", \"coordinates\": [[-99.14...</td>\n",
       "      <td>002_015_07</td>\n",
       "      <td>Cuautémoc</td>\n",
       "      <td>B</td>\n",
       "      <td>Hotel</td>\n",
       "      <td>Calvin</td>\n",
       "    </tr>\n",
       "    <tr>\n",
       "      <th>86</th>\n",
       "      <td>86</td>\n",
       "      <td>19.4244645173,-99.1433325213</td>\n",
       "      <td>{\"type\": \"MultiPoint\", \"coordinates\": [[-99.14...</td>\n",
       "      <td>002_085_04</td>\n",
       "      <td>Cuautémoc</td>\n",
       "      <td>B</td>\n",
       "      <td>Hotel</td>\n",
       "      <td>San Juan</td>\n",
       "    </tr>\n",
       "    <tr>\n",
       "      <th>54</th>\n",
       "      <td>54</td>\n",
       "      <td>19.4263645964,-99.1399088724</td>\n",
       "      <td>{\"type\": \"MultiPoint\", \"coordinates\": [[-99.13...</td>\n",
       "      <td>001_076_12</td>\n",
       "      <td>Cuautémoc</td>\n",
       "      <td>B</td>\n",
       "      <td>Hotel</td>\n",
       "      <td>Cadillac, S.A. DE C.V.</td>\n",
       "    </tr>\n",
       "    <tr>\n",
       "      <th>53</th>\n",
       "      <td>53</td>\n",
       "      <td>19.4419740424,-99.1401449131</td>\n",
       "      <td>{\"type\": \"MultiPoint\", \"coordinates\": [[-99.14...</td>\n",
       "      <td>003_069_16</td>\n",
       "      <td>Cuautémoc</td>\n",
       "      <td>B</td>\n",
       "      <td>Hotel</td>\n",
       "      <td>Magnolia A</td>\n",
       "    </tr>\n",
       "    <tr>\n",
       "      <th>185</th>\n",
       "      <td>185</td>\n",
       "      <td>19.42697144,-99.1415371446</td>\n",
       "      <td>{\"type\": \"MultiPoint\", \"coordinates\": [[-99.14...</td>\n",
       "      <td>001_065_14</td>\n",
       "      <td>Cuautémoc</td>\n",
       "      <td>A</td>\n",
       "      <td>Hotel</td>\n",
       "      <td>Virreyes</td>\n",
       "    </tr>\n",
       "    <tr>\n",
       "      <th>58</th>\n",
       "      <td>58</td>\n",
       "      <td>19.4244380424,-99.1306732022</td>\n",
       "      <td>{\"type\": \"MultiPoint\", \"coordinates\": [[-99.13...</td>\n",
       "      <td>307_124_19</td>\n",
       "      <td>Cuautémoc</td>\n",
       "      <td>B</td>\n",
       "      <td>Hotel</td>\n",
       "      <td>Unico</td>\n",
       "    </tr>\n",
       "    <tr>\n",
       "      <th>219</th>\n",
       "      <td>219</td>\n",
       "      <td>19.4234096295,-99.1438351156</td>\n",
       "      <td>{\"type\": \"MultiPoint\", \"coordinates\": [[-99.14...</td>\n",
       "      <td>002_118_03</td>\n",
       "      <td>Cuautémoc</td>\n",
       "      <td>B</td>\n",
       "      <td>Hotel</td>\n",
       "      <td>Prado Floresta</td>\n",
       "    </tr>\n",
       "    <tr>\n",
       "      <th>142</th>\n",
       "      <td>142</td>\n",
       "      <td>19.4263681354,-99.1327278126</td>\n",
       "      <td>{\"type\": \"MultiPoint\", \"coordinates\": [[-99.13...</td>\n",
       "      <td>006_127_14</td>\n",
       "      <td>Cuautémoc</td>\n",
       "      <td>A</td>\n",
       "      <td>Hotel</td>\n",
       "      <td>Ambar</td>\n",
       "    </tr>\n",
       "  </tbody>\n",
       "</table>\n",
       "</div>"
      ],
      "text/plain": [
       "      id                  geo_point_2d  \\\n",
       "63    63  19.4339116282,-99.1468371035   \n",
       "86    86  19.4244645173,-99.1433325213   \n",
       "54    54  19.4263645964,-99.1399088724   \n",
       "53    53  19.4419740424,-99.1401449131   \n",
       "185  185    19.42697144,-99.1415371446   \n",
       "58    58  19.4244380424,-99.1306732022   \n",
       "219  219  19.4234096295,-99.1438351156   \n",
       "142  142  19.4263681354,-99.1327278126   \n",
       "\n",
       "                                             geo_shape   clave_cat delegacion  \\\n",
       "63   {\"type\": \"MultiPoint\", \"coordinates\": [[-99.14...  002_015_07  Cuautémoc   \n",
       "86   {\"type\": \"MultiPoint\", \"coordinates\": [[-99.14...  002_085_04  Cuautémoc   \n",
       "54   {\"type\": \"MultiPoint\", \"coordinates\": [[-99.13...  001_076_12  Cuautémoc   \n",
       "53   {\"type\": \"MultiPoint\", \"coordinates\": [[-99.14...  003_069_16  Cuautémoc   \n",
       "185  {\"type\": \"MultiPoint\", \"coordinates\": [[-99.14...  001_065_14  Cuautémoc   \n",
       "58   {\"type\": \"MultiPoint\", \"coordinates\": [[-99.13...  307_124_19  Cuautémoc   \n",
       "219  {\"type\": \"MultiPoint\", \"coordinates\": [[-99.14...  002_118_03  Cuautémoc   \n",
       "142  {\"type\": \"MultiPoint\", \"coordinates\": [[-99.13...  006_127_14  Cuautémoc   \n",
       "\n",
       "    perimetro   tipo                  nom_id  \n",
       "63          B  Hotel                  Calvin  \n",
       "86          B  Hotel                San Juan  \n",
       "54          B  Hotel  Cadillac, S.A. DE C.V.  \n",
       "53          B  Hotel              Magnolia A  \n",
       "185         A  Hotel                Virreyes  \n",
       "58          B  Hotel                   Unico  \n",
       "219         B  Hotel          Prado Floresta  \n",
       "142         A  Hotel                   Ambar  "
      ]
     },
     "execution_count": 6,
     "metadata": {},
     "output_type": "execute_result"
    }
   ],
   "source": [
    "aleat_8 = econdata.sample(n=8)\n",
    "aleat_8"
   ]
  },
  {
   "cell_type": "code",
   "execution_count": 7,
   "metadata": {},
   "outputs": [
    {
     "data": {
      "text/html": [
       "<div>\n",
       "<style scoped>\n",
       "    .dataframe tbody tr th:only-of-type {\n",
       "        vertical-align: middle;\n",
       "    }\n",
       "\n",
       "    .dataframe tbody tr th {\n",
       "        vertical-align: top;\n",
       "    }\n",
       "\n",
       "    .dataframe thead th {\n",
       "        text-align: right;\n",
       "    }\n",
       "</style>\n",
       "<table border=\"1\" class=\"dataframe\">\n",
       "  <thead>\n",
       "    <tr style=\"text-align: right;\">\n",
       "      <th></th>\n",
       "      <th>id</th>\n",
       "      <th>geo_point_2d</th>\n",
       "      <th>geo_shape</th>\n",
       "      <th>clave_cat</th>\n",
       "      <th>delegacion</th>\n",
       "      <th>perimetro</th>\n",
       "      <th>tipo</th>\n",
       "      <th>nom_id</th>\n",
       "    </tr>\n",
       "  </thead>\n",
       "  <tbody>\n",
       "    <tr>\n",
       "      <th>118</th>\n",
       "      <td>118</td>\n",
       "      <td>19.44371481,-99.14271352</td>\n",
       "      <td>{\"type\": \"MultiPoint\", \"coordinates\": [[-99.14...</td>\n",
       "      <td>003_050_07</td>\n",
       "      <td>Cuautémoc</td>\n",
       "      <td>B</td>\n",
       "      <td>Hotel</td>\n",
       "      <td>Manolete</td>\n",
       "    </tr>\n",
       "    <tr>\n",
       "      <th>2</th>\n",
       "      <td>2</td>\n",
       "      <td>19.4340695945,-99.1306348409</td>\n",
       "      <td>{\"type\": \"MultiPoint\", \"coordinates\": [[-99.13...</td>\n",
       "      <td>006_002_12</td>\n",
       "      <td>Cuautémoc</td>\n",
       "      <td>A</td>\n",
       "      <td>Museo</td>\n",
       "      <td>Santa Teresa</td>\n",
       "    </tr>\n",
       "    <tr>\n",
       "      <th>99</th>\n",
       "      <td>99</td>\n",
       "      <td>19.4438918423,-99.1402516182</td>\n",
       "      <td>{\"type\": \"MultiPoint\", \"coordinates\": [[-99.14...</td>\n",
       "      <td>003_052_18</td>\n",
       "      <td>Cuautémoc</td>\n",
       "      <td>B</td>\n",
       "      <td>Hotel</td>\n",
       "      <td>Drigales</td>\n",
       "    </tr>\n",
       "    <tr>\n",
       "      <th>170</th>\n",
       "      <td>170</td>\n",
       "      <td>19.43162145,-99.13535842</td>\n",
       "      <td>{\"type\": \"MultiPoint\", \"coordinates\": [[-99.13...</td>\n",
       "      <td>001_028_11</td>\n",
       "      <td>Cuautémoc</td>\n",
       "      <td>A</td>\n",
       "      <td>Hotel</td>\n",
       "      <td>NH Hoteles</td>\n",
       "    </tr>\n",
       "    <tr>\n",
       "      <th>62</th>\n",
       "      <td>62</td>\n",
       "      <td>19.4377973772,-99.1504216904</td>\n",
       "      <td>{\"type\": \"MultiPoint\", \"coordinates\": [[-99.15...</td>\n",
       "      <td>011_034_16</td>\n",
       "      <td>Cuautémoc</td>\n",
       "      <td>B</td>\n",
       "      <td>Hotel</td>\n",
       "      <td>Ramada Reforma</td>\n",
       "    </tr>\n",
       "  </tbody>\n",
       "</table>\n",
       "</div>"
      ],
      "text/plain": [
       "      id                  geo_point_2d  \\\n",
       "118  118      19.44371481,-99.14271352   \n",
       "2      2  19.4340695945,-99.1306348409   \n",
       "99    99  19.4438918423,-99.1402516182   \n",
       "170  170      19.43162145,-99.13535842   \n",
       "62    62  19.4377973772,-99.1504216904   \n",
       "\n",
       "                                             geo_shape   clave_cat delegacion  \\\n",
       "118  {\"type\": \"MultiPoint\", \"coordinates\": [[-99.14...  003_050_07  Cuautémoc   \n",
       "2    {\"type\": \"MultiPoint\", \"coordinates\": [[-99.13...  006_002_12  Cuautémoc   \n",
       "99   {\"type\": \"MultiPoint\", \"coordinates\": [[-99.14...  003_052_18  Cuautémoc   \n",
       "170  {\"type\": \"MultiPoint\", \"coordinates\": [[-99.13...  001_028_11  Cuautémoc   \n",
       "62   {\"type\": \"MultiPoint\", \"coordinates\": [[-99.15...  011_034_16  Cuautémoc   \n",
       "\n",
       "    perimetro   tipo          nom_id  \n",
       "118         B  Hotel        Manolete  \n",
       "2           A  Museo    Santa Teresa  \n",
       "99          B  Hotel        Drigales  \n",
       "170         A  Hotel      NH Hoteles  \n",
       "62          B  Hotel  Ramada Reforma  "
      ]
     },
     "execution_count": 7,
     "metadata": {},
     "output_type": "execute_result"
    }
   ],
   "source": [
    "prop_25 = econdata.sample(frac= .25)\n",
    "prop_25.head()"
   ]
  },
  {
   "cell_type": "markdown",
   "metadata": {},
   "source": [
    "## 2) Muestreo sistematico"
   ]
  },
  {
   "cell_type": "code",
   "execution_count": 8,
   "metadata": {},
   "outputs": [
    {
     "data": {
      "text/html": [
       "<div>\n",
       "<style scoped>\n",
       "    .dataframe tbody tr th:only-of-type {\n",
       "        vertical-align: middle;\n",
       "    }\n",
       "\n",
       "    .dataframe tbody tr th {\n",
       "        vertical-align: top;\n",
       "    }\n",
       "\n",
       "    .dataframe thead th {\n",
       "        text-align: right;\n",
       "    }\n",
       "</style>\n",
       "<table border=\"1\" class=\"dataframe\">\n",
       "  <thead>\n",
       "    <tr style=\"text-align: right;\">\n",
       "      <th></th>\n",
       "      <th>id</th>\n",
       "      <th>geo_point_2d</th>\n",
       "      <th>geo_shape</th>\n",
       "      <th>clave_cat</th>\n",
       "      <th>delegacion</th>\n",
       "      <th>perimetro</th>\n",
       "      <th>tipo</th>\n",
       "      <th>nom_id</th>\n",
       "    </tr>\n",
       "  </thead>\n",
       "  <tbody>\n",
       "    <tr>\n",
       "      <th>0</th>\n",
       "      <td>0</td>\n",
       "      <td>19.424781053,-99.1327537959</td>\n",
       "      <td>{\"type\": \"Polygon\", \"coordinates\": [[[-99.1332...</td>\n",
       "      <td>307_130_11</td>\n",
       "      <td>Cuauhtémoc</td>\n",
       "      <td>B</td>\n",
       "      <td>Mercado</td>\n",
       "      <td>Pino Suárez</td>\n",
       "    </tr>\n",
       "    <tr>\n",
       "      <th>3</th>\n",
       "      <td>3</td>\n",
       "      <td>19.42489472,-99.12073393</td>\n",
       "      <td>{\"type\": \"MultiPoint\", \"coordinates\": [[-99.12...</td>\n",
       "      <td>323_102_06</td>\n",
       "      <td>Venustiano Carranza</td>\n",
       "      <td>B</td>\n",
       "      <td>Hotel</td>\n",
       "      <td>Balbuena</td>\n",
       "    </tr>\n",
       "    <tr>\n",
       "      <th>6</th>\n",
       "      <td>6</td>\n",
       "      <td>19.43553422,-99.12324801</td>\n",
       "      <td>{\"type\": \"MultiPoint\", \"coordinates\": [[-99.12...</td>\n",
       "      <td>318_116_11</td>\n",
       "      <td>Venustiano Carranza</td>\n",
       "      <td>B</td>\n",
       "      <td>Hotel</td>\n",
       "      <td>San Antonio Tomatlan</td>\n",
       "    </tr>\n",
       "    <tr>\n",
       "      <th>9</th>\n",
       "      <td>9</td>\n",
       "      <td>19.4407152937,-99.1498060057</td>\n",
       "      <td>{\"type\": \"MultiPoint\", \"coordinates\": [[-99.14...</td>\n",
       "      <td>012_146_22</td>\n",
       "      <td>Cuautémoc</td>\n",
       "      <td>B</td>\n",
       "      <td>Hotel</td>\n",
       "      <td>Detroit</td>\n",
       "    </tr>\n",
       "    <tr>\n",
       "      <th>12</th>\n",
       "      <td>12</td>\n",
       "      <td>19.43990186,-99.14813347</td>\n",
       "      <td>{\"type\": \"MultiPoint\", \"coordinates\": [[-99.14...</td>\n",
       "      <td>003_079_16</td>\n",
       "      <td>Cuautémoc</td>\n",
       "      <td>B</td>\n",
       "      <td>Hotel</td>\n",
       "      <td>La Paz</td>\n",
       "    </tr>\n",
       "    <tr>\n",
       "      <th>...</th>\n",
       "      <td>...</td>\n",
       "      <td>...</td>\n",
       "      <td>...</td>\n",
       "      <td>...</td>\n",
       "      <td>...</td>\n",
       "      <td>...</td>\n",
       "      <td>...</td>\n",
       "      <td>...</td>\n",
       "    </tr>\n",
       "    <tr>\n",
       "      <th>216</th>\n",
       "      <td>216</td>\n",
       "      <td>19.4247697438,-99.1249707246</td>\n",
       "      <td>{\"type\": \"Polygon\", \"coordinates\": [[[-99.1250...</td>\n",
       "      <td>323_118_37</td>\n",
       "      <td>Venustiano Carranza</td>\n",
       "      <td>B</td>\n",
       "      <td>Mercado</td>\n",
       "      <td>Lamininas de La Merced</td>\n",
       "    </tr>\n",
       "    <tr>\n",
       "      <th>219</th>\n",
       "      <td>219</td>\n",
       "      <td>19.4234096295,-99.1438351156</td>\n",
       "      <td>{\"type\": \"MultiPoint\", \"coordinates\": [[-99.14...</td>\n",
       "      <td>002_118_03</td>\n",
       "      <td>Cuautémoc</td>\n",
       "      <td>B</td>\n",
       "      <td>Hotel</td>\n",
       "      <td>Prado Floresta</td>\n",
       "    </tr>\n",
       "    <tr>\n",
       "      <th>222</th>\n",
       "      <td>222</td>\n",
       "      <td>19.4397905042,-99.134628735</td>\n",
       "      <td>{\"type\": \"MultiPoint\", \"coordinates\": [[-99.13...</td>\n",
       "      <td>004_063_10</td>\n",
       "      <td>Cuautémoc</td>\n",
       "      <td>A</td>\n",
       "      <td>Hotel</td>\n",
       "      <td>Ladero</td>\n",
       "    </tr>\n",
       "    <tr>\n",
       "      <th>225</th>\n",
       "      <td>225</td>\n",
       "      <td>19.43094655,-99.12455418</td>\n",
       "      <td>{\"type\": \"MultiPoint\", \"coordinates\": [[-99.12...</td>\n",
       "      <td>323_027_04</td>\n",
       "      <td>Venustiano Carranza</td>\n",
       "      <td>B</td>\n",
       "      <td>Hotel</td>\n",
       "      <td>Gran Veracruz</td>\n",
       "    </tr>\n",
       "    <tr>\n",
       "      <th>228</th>\n",
       "      <td>228</td>\n",
       "      <td>19.4406567734,-99.1394531646</td>\n",
       "      <td>{\"type\": \"MultiPoint\", \"coordinates\": [[-99.13...</td>\n",
       "      <td>004_069_01</td>\n",
       "      <td>Cuautémoc</td>\n",
       "      <td>B</td>\n",
       "      <td>Museo</td>\n",
       "      <td>Tequila y Mescal</td>\n",
       "    </tr>\n",
       "  </tbody>\n",
       "</table>\n",
       "<p>77 rows × 8 columns</p>\n",
       "</div>"
      ],
      "text/plain": [
       "      id                  geo_point_2d  \\\n",
       "0      0   19.424781053,-99.1327537959   \n",
       "3      3      19.42489472,-99.12073393   \n",
       "6      6      19.43553422,-99.12324801   \n",
       "9      9  19.4407152937,-99.1498060057   \n",
       "12    12      19.43990186,-99.14813347   \n",
       "..   ...                           ...   \n",
       "216  216  19.4247697438,-99.1249707246   \n",
       "219  219  19.4234096295,-99.1438351156   \n",
       "222  222   19.4397905042,-99.134628735   \n",
       "225  225      19.43094655,-99.12455418   \n",
       "228  228  19.4406567734,-99.1394531646   \n",
       "\n",
       "                                             geo_shape   clave_cat  \\\n",
       "0    {\"type\": \"Polygon\", \"coordinates\": [[[-99.1332...  307_130_11   \n",
       "3    {\"type\": \"MultiPoint\", \"coordinates\": [[-99.12...  323_102_06   \n",
       "6    {\"type\": \"MultiPoint\", \"coordinates\": [[-99.12...  318_116_11   \n",
       "9    {\"type\": \"MultiPoint\", \"coordinates\": [[-99.14...  012_146_22   \n",
       "12   {\"type\": \"MultiPoint\", \"coordinates\": [[-99.14...  003_079_16   \n",
       "..                                                 ...         ...   \n",
       "216  {\"type\": \"Polygon\", \"coordinates\": [[[-99.1250...  323_118_37   \n",
       "219  {\"type\": \"MultiPoint\", \"coordinates\": [[-99.14...  002_118_03   \n",
       "222  {\"type\": \"MultiPoint\", \"coordinates\": [[-99.13...  004_063_10   \n",
       "225  {\"type\": \"MultiPoint\", \"coordinates\": [[-99.12...  323_027_04   \n",
       "228  {\"type\": \"MultiPoint\", \"coordinates\": [[-99.13...  004_069_01   \n",
       "\n",
       "              delegacion perimetro     tipo                  nom_id  \n",
       "0             Cuauhtémoc         B  Mercado             Pino Suárez  \n",
       "3    Venustiano Carranza         B    Hotel                Balbuena  \n",
       "6    Venustiano Carranza         B    Hotel    San Antonio Tomatlan  \n",
       "9              Cuautémoc         B    Hotel                 Detroit  \n",
       "12             Cuautémoc         B    Hotel                  La Paz  \n",
       "..                   ...       ...      ...                     ...  \n",
       "216  Venustiano Carranza         B  Mercado  Lamininas de La Merced  \n",
       "219            Cuautémoc         B    Hotel          Prado Floresta  \n",
       "222            Cuautémoc         A    Hotel                  Ladero  \n",
       "225  Venustiano Carranza         B    Hotel           Gran Veracruz  \n",
       "228            Cuautémoc         B    Museo        Tequila y Mescal  \n",
       "\n",
       "[77 rows x 8 columns]"
      ]
     },
     "execution_count": 8,
     "metadata": {},
     "output_type": "execute_result"
    }
   ],
   "source": [
    "def systematic_sampling(econdata, step):\n",
    "    indexes = np.arange(0, len(econdata), step= step)\n",
    "    systematic_sample = econdata.iloc[indexes]\n",
    "    return systematic_sample\n",
    "\n",
    "systematic_sample = systematic_sampling(econdata, 3)\n",
    "systematic_sample"
   ]
  },
  {
   "cell_type": "markdown",
   "metadata": {},
   "source": [
    "## 3) Muestreo estratificado"
   ]
  },
  {
   "cell_type": "code",
   "execution_count": 9,
   "metadata": {},
   "outputs": [
    {
     "data": {
      "text/plain": [
       "Cuautémoc,Hotel                0.643478\n",
       "Cuautémoc,Museo                0.156522\n",
       "Venustiano Carranza,Hotel      0.078261\n",
       "Cuauhtémoc,Mercado             0.073913\n",
       "Venustiano Carranza,Mercado    0.047826\n",
       "Name: estratificado, dtype: float64"
      ]
     },
     "execution_count": 9,
     "metadata": {},
     "output_type": "execute_result"
    }
   ],
   "source": [
    "econdata['estratificado'] = econdata['delegacion'] + \",\" + econdata['tipo']\n",
    "(econdata['estratificado'].value_counts()/len(econdata)).sort_values(ascending= False)"
   ]
  },
  {
   "cell_type": "markdown",
   "metadata": {},
   "source": [
    "Nuestros datos dicen que la proporcion es la siguiente:\n",
    "1) Hoteles de Cuauhtémoc 0.5\n",
    "2) Mueseo de Cuauhtémoc 0.2\n",
    "3) Hoteles de  Venustiana Carranza 0.1\n",
    "4) Mercados de Cuauhtémoc 0.1 \n",
    "5) Mercados de Venustiana Carranza 0.1"
   ]
  },
  {
   "cell_type": "code",
   "execution_count": 10,
   "metadata": {},
   "outputs": [],
   "source": [
    "from dataclasses import replace\n",
    "\n",
    "\n",
    "def data_estratificada(econdata, nombres_columnas_estrat, valores_estrat, prop_estrat, random_state=None):\n",
    "    df_estrat = pd.DataFrame(columns= econdata.columns)\n",
    "\n",
    "    pos = -1\n",
    "    for i in range(len(valores_estrat)):   \n",
    "        pos += 1\n",
    "        if pos == len(valores_estrat) - 1:\n",
    "            ratio_len = len(econdata) - len(df_estrat)\n",
    "        else:\n",
    "            ratio_len = int(len(econdata) * prop_estrat[i])\n",
    "\n",
    "        df_filtrado = econdata[econdata[nombres_columnas_estrat] == valores_estrat[i]]\n",
    "        df_temp = df_filtrado.sample(replace=True, n=ratio_len, random_state=random_state)\n",
    "\n",
    "        df_estrat = pd.concat([df_estrat, df_temp])\n",
    "    return df_estrat "
   ]
  },
  {
   "cell_type": "code",
   "execution_count": 11,
   "metadata": {},
   "outputs": [],
   "source": [
    "valores_estrat = ['Cuautémoc,Hotel', 'Cuautémoc,Museo', 'Venustiano Carranza,Hotel', 'Cuauhtémoc,Mercado', 'Venustiano Carranza,Mercado']\n",
    "prop_estrat = [0.5, 0.2, 0.1, 0.1, 0.1]\n",
    "df_estrat = data_estratificada(econdata, 'estratificado', valores_estrat, prop_estrat, random_state = 42)"
   ]
  },
  {
   "cell_type": "code",
   "execution_count": 12,
   "metadata": {},
   "outputs": [],
   "source": [
    "a = np.array([7, 10, 12, 13, 16, 9, 8, 12, 8, 6, 16, 23, 11, 17, 20, 21, 25, 30, 31, 33, 37, 39, 27, 36, 40, 43, 41, 45])\n"
   ]
  },
  {
   "cell_type": "code",
   "execution_count": 13,
   "metadata": {},
   "outputs": [
    {
     "name": "stdout",
     "output_type": "stream",
     "text": [
      "155.06122448979593 12.452358189909088\n"
     ]
    }
   ],
   "source": [
    "variance= np.var(a)\n",
    "desv=np.std(a)\n",
    "print(variance, desv)"
   ]
  },
  {
   "cell_type": "markdown",
   "metadata": {},
   "source": [
    "## Varianza y desviación estandar"
   ]
  },
  {
   "cell_type": "code",
   "execution_count": 14,
   "metadata": {},
   "outputs": [],
   "source": [
    "import matplotlib.pyplot as plt\n",
    "import seaborn as sns"
   ]
  },
  {
   "cell_type": "markdown",
   "metadata": {},
   "source": [
    "## Leemos la base da datos a trabajar en nuestra ruta de origen"
   ]
  },
  {
   "cell_type": "code",
   "execution_count": 15,
   "metadata": {},
   "outputs": [],
   "source": [
    "url = 'https://archive.ics.uci.edu/ml/machine-learning-databases/iris/iris.data'\n",
    "names = ['sepal-length', 'sepal-width', 'petal-length', 'petal-width', 'class']\n",
    "iris = pd.read_csv(url, names = names)"
   ]
  },
  {
   "cell_type": "code",
   "execution_count": 16,
   "metadata": {},
   "outputs": [
    {
     "data": {
      "text/html": [
       "<div>\n",
       "<style scoped>\n",
       "    .dataframe tbody tr th:only-of-type {\n",
       "        vertical-align: middle;\n",
       "    }\n",
       "\n",
       "    .dataframe tbody tr th {\n",
       "        vertical-align: top;\n",
       "    }\n",
       "\n",
       "    .dataframe thead th {\n",
       "        text-align: right;\n",
       "    }\n",
       "</style>\n",
       "<table border=\"1\" class=\"dataframe\">\n",
       "  <thead>\n",
       "    <tr style=\"text-align: right;\">\n",
       "      <th></th>\n",
       "      <th>sepal-length</th>\n",
       "      <th>sepal-width</th>\n",
       "      <th>petal-length</th>\n",
       "      <th>petal-width</th>\n",
       "      <th>class</th>\n",
       "    </tr>\n",
       "  </thead>\n",
       "  <tbody>\n",
       "    <tr>\n",
       "      <th>0</th>\n",
       "      <td>5.1</td>\n",
       "      <td>3.5</td>\n",
       "      <td>1.4</td>\n",
       "      <td>0.2</td>\n",
       "      <td>Iris-setosa</td>\n",
       "    </tr>\n",
       "    <tr>\n",
       "      <th>1</th>\n",
       "      <td>4.9</td>\n",
       "      <td>3.0</td>\n",
       "      <td>1.4</td>\n",
       "      <td>0.2</td>\n",
       "      <td>Iris-setosa</td>\n",
       "    </tr>\n",
       "    <tr>\n",
       "      <th>2</th>\n",
       "      <td>4.7</td>\n",
       "      <td>3.2</td>\n",
       "      <td>1.3</td>\n",
       "      <td>0.2</td>\n",
       "      <td>Iris-setosa</td>\n",
       "    </tr>\n",
       "    <tr>\n",
       "      <th>3</th>\n",
       "      <td>4.6</td>\n",
       "      <td>3.1</td>\n",
       "      <td>1.5</td>\n",
       "      <td>0.2</td>\n",
       "      <td>Iris-setosa</td>\n",
       "    </tr>\n",
       "    <tr>\n",
       "      <th>4</th>\n",
       "      <td>5.0</td>\n",
       "      <td>3.6</td>\n",
       "      <td>1.4</td>\n",
       "      <td>0.2</td>\n",
       "      <td>Iris-setosa</td>\n",
       "    </tr>\n",
       "  </tbody>\n",
       "</table>\n",
       "</div>"
      ],
      "text/plain": [
       "   sepal-length  sepal-width  petal-length  petal-width        class\n",
       "0           5.1          3.5           1.4          0.2  Iris-setosa\n",
       "1           4.9          3.0           1.4          0.2  Iris-setosa\n",
       "2           4.7          3.2           1.3          0.2  Iris-setosa\n",
       "3           4.6          3.1           1.5          0.2  Iris-setosa\n",
       "4           5.0          3.6           1.4          0.2  Iris-setosa"
      ]
     },
     "execution_count": 16,
     "metadata": {},
     "output_type": "execute_result"
    }
   ],
   "source": [
    "iris.head()"
   ]
  },
  {
   "cell_type": "code",
   "execution_count": 47,
   "metadata": {},
   "outputs": [
    {
     "data": {
      "image/png": "[encoded data removed]",
      "text/plain": [
       "<Figure size 432x288 with 6 Axes>"
      ]
     },
     "metadata": {
      "needs_background": "light"
     },
     "output_type": "display_data"
    }
   ],
   "source": [
    "fig, axs = plt.subplots(2,3)\n",
    "axs[0,0].hist(iris['sepal-length'], color= 'blue', bins= int(180/5))\n",
    "axs[0,1].hist(iris['petal-length'], color= 'blue', bins= int(180/5))\n",
    "axs[0,2].hist(iris['class'], color= 'blue', bins= int(180/5))\n",
    "axs[1,0].hist(iris['sepal-width'], color= 'red', bins= int(180/5))\n",
    "axs[1,1].hist(iris['petal-width'], color= 'red', bins= int(180/5))\n",
    "plt.show()"
   ]
  },
  {
   "cell_type": "code",
   "execution_count": 42,
   "metadata": {},
   "outputs": [
    {
     "data": {
      "text/plain": [
       "<function matplotlib.pyplot.show(close=None, block=None)>"
      ]
     },
     "execution_count": 42,
     "metadata": {},
     "output_type": "execute_result"
    },
    {
     "data": {
      "image/png": "[encoded data removed]",
      "text/plain": [
       "<Figure size 360x360 with 1 Axes>"
      ]
     },
     "metadata": {
      "needs_background": "light"
     },
     "output_type": "display_data"
    }
   ],
   "source": [
    "\n",
    "sns.displot(iris['sepal-length'], kde = True, bins = int(180/5), color = 'blue')\n",
    "plt.show"
   ]
  },
  {
   "cell_type": "markdown",
   "metadata": {},
   "source": [
    "## Cálculo Varianza"
   ]
  },
  {
   "cell_type": "code",
   "execution_count": 49,
   "metadata": {},
   "outputs": [
    {
     "name": "stdout",
     "output_type": "stream",
     "text": [
      "sepal-length var: 0.6856935123042507\n",
      "sepal-width var: 0.1880040268456376\n",
      "petal-length var: 3.113179418344519\n",
      "petal-width var: 0.582414317673378\n"
     ]
    }
   ],
   "source": [
    "print(\"sepal-length var:\",iris['sepal-length'].var())\n",
    "print(\"sepal-width var:\",iris['sepal-width'].var())\n",
    "print(\"petal-length var:\",iris['petal-length'].var())\n",
    "print(\"petal-width var:\",iris['petal-width'].var())"
   ]
  },
  {
   "cell_type": "markdown",
   "metadata": {},
   "source": [
    "## Cálculo de desviación estandar"
   ]
  },
  {
   "cell_type": "code",
   "execution_count": 51,
   "metadata": {},
   "outputs": [
    {
     "name": "stdout",
     "output_type": "stream",
     "text": [
      "sepal-length std: 0.828066127977863\n",
      "sepal-width std: 0.4335943113621737\n",
      "petal-length std: 1.7644204199522626\n",
      "petal-width std: 0.7631607417008411\n"
     ]
    }
   ],
   "source": [
    "print(\"sepal-length std:\",iris['sepal-length'].std())\n",
    "print(\"sepal-width std:\",iris['sepal-width'].std())\n",
    "print(\"petal-length std:\",iris['petal-length'].std())\n",
    "print(\"petal-width std:\",iris['petal-width'].std())"
   ]
  },
  {
   "cell_type": "markdown",
   "metadata": {},
   "source": [
    "## Media"
   ]
  },
  {
   "cell_type": "code",
   "execution_count": 52,
   "metadata": {},
   "outputs": [
    {
     "name": "stdout",
     "output_type": "stream",
     "text": [
      "sepal-length mean: 5.843333333333334\n",
      "sepal-width mean: 3.0540000000000003\n",
      "petal-length mean: 3.758666666666666\n",
      "petal-width mean: 1.1986666666666668\n"
     ]
    }
   ],
   "source": [
    "print(\"sepal-length mean:\",iris['sepal-length'].mean())\n",
    "print(\"sepal-width mean:\",iris['sepal-width'].mean())\n",
    "print(\"petal-length mean:\",iris['petal-length'].mean())\n",
    "print(\"petal-width mean:\",iris['petal-width'].mean())"
   ]
  },
  {
   "cell_type": "markdown",
   "metadata": {},
   "source": [
    "## Creación de muestra mediante Muestreo Aleatorio Simple"
   ]
  },
  {
   "cell_type": "code",
   "execution_count": 35,
   "metadata": {},
   "outputs": [
    {
     "data": {
      "text/html": [
       "<div>\n",
       "<style scoped>\n",
       "    .dataframe tbody tr th:only-of-type {\n",
       "        vertical-align: middle;\n",
       "    }\n",
       "\n",
       "    .dataframe tbody tr th {\n",
       "        vertical-align: top;\n",
       "    }\n",
       "\n",
       "    .dataframe thead th {\n",
       "        text-align: right;\n",
       "    }\n",
       "</style>\n",
       "<table border=\"1\" class=\"dataframe\">\n",
       "  <thead>\n",
       "    <tr style=\"text-align: right;\">\n",
       "      <th></th>\n",
       "      <th>sepal-length</th>\n",
       "      <th>sepal-width</th>\n",
       "      <th>petal-length</th>\n",
       "      <th>petal-width</th>\n",
       "      <th>class</th>\n",
       "    </tr>\n",
       "  </thead>\n",
       "  <tbody>\n",
       "    <tr>\n",
       "      <th>147</th>\n",
       "      <td>6.5</td>\n",
       "      <td>3.0</td>\n",
       "      <td>5.2</td>\n",
       "      <td>2.0</td>\n",
       "      <td>Iris-virginica</td>\n",
       "    </tr>\n",
       "    <tr>\n",
       "      <th>80</th>\n",
       "      <td>5.5</td>\n",
       "      <td>2.4</td>\n",
       "      <td>3.8</td>\n",
       "      <td>1.1</td>\n",
       "      <td>Iris-versicolor</td>\n",
       "    </tr>\n",
       "    <tr>\n",
       "      <th>94</th>\n",
       "      <td>5.6</td>\n",
       "      <td>2.7</td>\n",
       "      <td>4.2</td>\n",
       "      <td>1.3</td>\n",
       "      <td>Iris-versicolor</td>\n",
       "    </tr>\n",
       "    <tr>\n",
       "      <th>124</th>\n",
       "      <td>6.7</td>\n",
       "      <td>3.3</td>\n",
       "      <td>5.7</td>\n",
       "      <td>2.1</td>\n",
       "      <td>Iris-virginica</td>\n",
       "    </tr>\n",
       "    <tr>\n",
       "      <th>51</th>\n",
       "      <td>6.4</td>\n",
       "      <td>3.2</td>\n",
       "      <td>4.5</td>\n",
       "      <td>1.5</td>\n",
       "      <td>Iris-versicolor</td>\n",
       "    </tr>\n",
       "    <tr>\n",
       "      <th>...</th>\n",
       "      <td>...</td>\n",
       "      <td>...</td>\n",
       "      <td>...</td>\n",
       "      <td>...</td>\n",
       "      <td>...</td>\n",
       "    </tr>\n",
       "    <tr>\n",
       "      <th>128</th>\n",
       "      <td>6.4</td>\n",
       "      <td>2.8</td>\n",
       "      <td>5.6</td>\n",
       "      <td>2.1</td>\n",
       "      <td>Iris-virginica</td>\n",
       "    </tr>\n",
       "    <tr>\n",
       "      <th>120</th>\n",
       "      <td>6.9</td>\n",
       "      <td>3.2</td>\n",
       "      <td>5.7</td>\n",
       "      <td>2.3</td>\n",
       "      <td>Iris-virginica</td>\n",
       "    </tr>\n",
       "    <tr>\n",
       "      <th>93</th>\n",
       "      <td>5.0</td>\n",
       "      <td>2.3</td>\n",
       "      <td>3.3</td>\n",
       "      <td>1.0</td>\n",
       "      <td>Iris-versicolor</td>\n",
       "    </tr>\n",
       "    <tr>\n",
       "      <th>49</th>\n",
       "      <td>5.0</td>\n",
       "      <td>3.3</td>\n",
       "      <td>1.4</td>\n",
       "      <td>0.2</td>\n",
       "      <td>Iris-setosa</td>\n",
       "    </tr>\n",
       "    <tr>\n",
       "      <th>114</th>\n",
       "      <td>5.8</td>\n",
       "      <td>2.8</td>\n",
       "      <td>5.1</td>\n",
       "      <td>2.4</td>\n",
       "      <td>Iris-virginica</td>\n",
       "    </tr>\n",
       "  </tbody>\n",
       "</table>\n",
       "<p>75 rows × 5 columns</p>\n",
       "</div>"
      ],
      "text/plain": [
       "     sepal-length  sepal-width  petal-length  petal-width            class\n",
       "147           6.5          3.0           5.2          2.0   Iris-virginica\n",
       "80            5.5          2.4           3.8          1.1  Iris-versicolor\n",
       "94            5.6          2.7           4.2          1.3  Iris-versicolor\n",
       "124           6.7          3.3           5.7          2.1   Iris-virginica\n",
       "51            6.4          3.2           4.5          1.5  Iris-versicolor\n",
       "..            ...          ...           ...          ...              ...\n",
       "128           6.4          2.8           5.6          2.1   Iris-virginica\n",
       "120           6.9          3.2           5.7          2.3   Iris-virginica\n",
       "93            5.0          2.3           3.3          1.0  Iris-versicolor\n",
       "49            5.0          3.3           1.4          0.2      Iris-setosa\n",
       "114           5.8          2.8           5.1          2.4   Iris-virginica\n",
       "\n",
       "[75 rows x 5 columns]"
      ]
     },
     "execution_count": 35,
     "metadata": {},
     "output_type": "execute_result"
    }
   ],
   "source": [
    "muestra = iris.sample(frac=0.5)\n",
    "muestra"
   ]
  },
  {
   "cell_type": "markdown",
   "metadata": {},
   "source": [
    "## Cálculo de la varianza"
   ]
  },
  {
   "cell_type": "code",
   "execution_count": 56,
   "metadata": {},
   "outputs": [
    {
     "name": "stdout",
     "output_type": "stream",
     "text": [
      "sepal-length var: 0.631664864864865\n",
      "sepal-width var: 0.1633081081081081\n",
      "petal-length var: 3.0895495495495497\n",
      "petal-width var: 0.5816864864864866\n"
     ]
    }
   ],
   "source": [
    "\n",
    "print(\"sepal-length var:\",muestra['sepal-length'].var())\n",
    "print(\"sepal-width var:\",muestra['sepal-width'].var())\n",
    "print(\"petal-length var:\",muestra['petal-length'].var())\n",
    "print(\"petal-width var:\",muestra['petal-width'].var())"
   ]
  },
  {
   "cell_type": "markdown",
   "metadata": {},
   "source": [
    "## Cálculo de la desviación estandar"
   ]
  },
  {
   "cell_type": "code",
   "execution_count": 55,
   "metadata": {},
   "outputs": [
    {
     "name": "stdout",
     "output_type": "stream",
     "text": [
      "sepal-length std: 0.7947734676402233\n",
      "sepal-width std: 0.40411397910503927\n",
      "petal-length std: 1.7577114523008461\n",
      "petal-width std: 0.7626837394926462\n"
     ]
    }
   ],
   "source": [
    "\n",
    "print(\"sepal-length std:\",muestra['sepal-length'].std())\n",
    "print(\"sepal-width std:\",muestra['sepal-width'].std())\n",
    "print(\"petal-length std:\",muestra['petal-length'].std())\n",
    "print(\"petal-width std:\",muestra['petal-width'].std())"
   ]
  },
  {
   "cell_type": "code",
   "execution_count": 57,
   "metadata": {},
   "outputs": [
    {
     "name": "stdout",
     "output_type": "stream",
     "text": [
      "sepal-length mean: 5.932\n",
      "sepal-width mean: 3.0560000000000005\n",
      "petal-length mean: 3.8933333333333335\n",
      "petal-width mean: 1.256\n"
     ]
    }
   ],
   "source": [
    "muestra['sepal-length'].mean()\n",
    "print(\"sepal-length mean:\",muestra['sepal-length'].mean())\n",
    "print(\"sepal-width mean:\",muestra['sepal-width'].mean())\n",
    "print(\"petal-length mean:\",muestra['petal-length'].mean())\n",
    "print(\"petal-width mean:\",muestra['petal-width'].mean())"
   ]
  },
  {
   "cell_type": "markdown",
   "metadata": {},
   "source": [
    "## Intervalos de Confianza"
   ]
  },
  {
   "cell_type": "code",
   "execution_count": 58,
   "metadata": {},
   "outputs": [],
   "source": [
    "import scipy.stats as st"
   ]
  },
  {
   "cell_type": "markdown",
   "metadata": {},
   "source": [
    "# Esta prática se realizara sobre una distribución creada por nosotros"
   ]
  },
  {
   "cell_type": "code",
   "execution_count": 60,
   "metadata": {},
   "outputs": [],
   "source": [
    "np.random.seed(20)\n",
    "var1 = np.random.randint(0, 10, 10) #Dias vacaciones\n",
    "var2 = var1+np.random.normal(0, 1, 10) #Dinero gastado"
   ]
  },
  {
   "cell_type": "code",
   "execution_count": 61,
   "metadata": {},
   "outputs": [
    {
     "data": {
      "text/plain": [
       "array([3, 9, 4, 6, 7, 2, 0, 6, 8, 5])"
      ]
     },
     "execution_count": 61,
     "metadata": {},
     "output_type": "execute_result"
    }
   ],
   "source": [
    "var1"
   ]
  },
  {
   "cell_type": "code",
   "execution_count": 62,
   "metadata": {},
   "outputs": [
    {
     "data": {
      "text/plain": [
       "array([1.91516741, 9.55969629, 4.93946935, 5.02151896, 7.50309684,\n",
       "       2.40641447, 0.32346101, 5.50658912, 7.20798321, 4.15763207])"
      ]
     },
     "execution_count": 62,
     "metadata": {},
     "output_type": "execute_result"
    }
   ],
   "source": [
    "var2"
   ]
  },
  {
   "cell_type": "markdown",
   "metadata": {},
   "source": [
    "## Visualización de un intervalo de confianza del 80%"
   ]
  },
  {
   "cell_type": "code",
   "execution_count": 64,
   "metadata": {},
   "outputs": [
    {
     "name": "stderr",
     "output_type": "stream",
     "text": [
      "C:\\Users\\danie\\AppData\\Local\\Packages\\PythonSoftwareFoundation.Python.3.10_qbz5n2kfra8p0\\LocalCache\\local-packages\\Python310\\site-packages\\seaborn\\_decorators.py:36: FutureWarning: Pass the following variables as keyword args: x, y. From version 0.12, the only valid positional argument will be `data`, and passing other arguments without an explicit keyword will result in an error or misinterpretation.\n",
      "  warnings.warn(\n"
     ]
    },
    {
     "data": {
      "image/png": "[encoded data removed]",
      "text/plain": [
       "<Figure size 432x288 with 1 Axes>"
      ]
     },
     "metadata": {
      "needs_background": "light"
     },
     "output_type": "display_data"
    }
   ],
   "source": [
    "grafico = sns.regplot(var1, var2, ci=80)"
   ]
  },
  {
   "cell_type": "code",
   "execution_count": 65,
   "metadata": {},
   "outputs": [
    {
     "data": {
      "text/plain": [
       "[(3, 1.9151674126826672),\n",
       " (9, 9.559696289403918),\n",
       " (4, 4.939469349856077),\n",
       " (6, 5.021518957881304),\n",
       " (7, 7.503096840109191),\n",
       " (2, 2.406414468894801),\n",
       " (0, 0.3234610099156434),\n",
       " (6, 5.50658911809112),\n",
       " (8, 7.207983209222818),\n",
       " (5, 4.157632065861516)]"
      ]
     },
     "execution_count": 65,
     "metadata": {},
     "output_type": "execute_result"
    }
   ],
   "source": [
    "tuple=list(zip(var1, var2))\n",
    "tuple"
   ]
  },
  {
   "cell_type": "code",
   "execution_count": 67,
   "metadata": {},
   "outputs": [
    {
     "data": {
      "text/html": [
       "<div>\n",
       "<style scoped>\n",
       "    .dataframe tbody tr th:only-of-type {\n",
       "        vertical-align: middle;\n",
       "    }\n",
       "\n",
       "    .dataframe tbody tr th {\n",
       "        vertical-align: top;\n",
       "    }\n",
       "\n",
       "    .dataframe thead th {\n",
       "        text-align: right;\n",
       "    }\n",
       "</style>\n",
       "<table border=\"1\" class=\"dataframe\">\n",
       "  <thead>\n",
       "    <tr style=\"text-align: right;\">\n",
       "      <th></th>\n",
       "      <th>Días de vacaciones</th>\n",
       "      <th>Dinero gastado</th>\n",
       "    </tr>\n",
       "  </thead>\n",
       "  <tbody>\n",
       "    <tr>\n",
       "      <th>0</th>\n",
       "      <td>3</td>\n",
       "      <td>1.915167</td>\n",
       "    </tr>\n",
       "    <tr>\n",
       "      <th>1</th>\n",
       "      <td>9</td>\n",
       "      <td>9.559696</td>\n",
       "    </tr>\n",
       "    <tr>\n",
       "      <th>2</th>\n",
       "      <td>4</td>\n",
       "      <td>4.939469</td>\n",
       "    </tr>\n",
       "    <tr>\n",
       "      <th>3</th>\n",
       "      <td>6</td>\n",
       "      <td>5.021519</td>\n",
       "    </tr>\n",
       "    <tr>\n",
       "      <th>4</th>\n",
       "      <td>7</td>\n",
       "      <td>7.503097</td>\n",
       "    </tr>\n",
       "    <tr>\n",
       "      <th>5</th>\n",
       "      <td>2</td>\n",
       "      <td>2.406414</td>\n",
       "    </tr>\n",
       "    <tr>\n",
       "      <th>6</th>\n",
       "      <td>0</td>\n",
       "      <td>0.323461</td>\n",
       "    </tr>\n",
       "    <tr>\n",
       "      <th>7</th>\n",
       "      <td>6</td>\n",
       "      <td>5.506589</td>\n",
       "    </tr>\n",
       "    <tr>\n",
       "      <th>8</th>\n",
       "      <td>8</td>\n",
       "      <td>7.207983</td>\n",
       "    </tr>\n",
       "    <tr>\n",
       "      <th>9</th>\n",
       "      <td>5</td>\n",
       "      <td>4.157632</td>\n",
       "    </tr>\n",
       "  </tbody>\n",
       "</table>\n",
       "</div>"
      ],
      "text/plain": [
       "   Días de vacaciones  Dinero gastado\n",
       "0                   3        1.915167\n",
       "1                   9        9.559696\n",
       "2                   4        4.939469\n",
       "3                   6        5.021519\n",
       "4                   7        7.503097\n",
       "5                   2        2.406414\n",
       "6                   0        0.323461\n",
       "7                   6        5.506589\n",
       "8                   8        7.207983\n",
       "9                   5        4.157632"
      ]
     },
     "execution_count": 67,
     "metadata": {},
     "output_type": "execute_result"
    }
   ],
   "source": [
    "tabla = pd.DataFrame(tuple,columns=[\"Días de vacaciones\", \"Dinero gastado\"])\n",
    "tabla"
   ]
  },
  {
   "cell_type": "code",
   "execution_count": 68,
   "metadata": {},
   "outputs": [
    {
     "name": "stderr",
     "output_type": "stream",
     "text": [
      "C:\\Users\\danie\\AppData\\Local\\Packages\\PythonSoftwareFoundation.Python.3.10_qbz5n2kfra8p0\\LocalCache\\local-packages\\Python310\\site-packages\\numpy\\core\\fromnumeric.py:3430: FutureWarning: In a future version, DataFrame.mean(axis=None) will return a scalar mean over the entire DataFrame. To retain the old behavior, use 'frame.mean(axis=0)' or just 'frame.mean()'\n",
      "  return mean(axis=axis, dtype=dtype, out=out, **kwargs)\n"
     ]
    },
    {
     "data": {
      "text/plain": [
       "(array([3.00496491, 2.84767315]), array([6.99503509, 6.86053259]))"
      ]
     },
     "execution_count": 68,
     "metadata": {},
     "output_type": "execute_result"
    }
   ],
   "source": [
    "# 0.95%\n",
    "st.t.interval(alpha= 0.95, df= len(tabla)-1, loc= np.mean(tabla), scale = st.sem(tabla))\n"
   ]
  },
  {
   "cell_type": "markdown",
   "metadata": {},
   "source": [
    "# Prueba de hipotesis"
   ]
  },
  {
   "cell_type": "code",
   "execution_count": 79,
   "metadata": {},
   "outputs": [],
   "source": [
    "from scipy import stats\n",
    "from scipy.stats import f_oneway"
   ]
  },
  {
   "cell_type": "code",
   "execution_count": 70,
   "metadata": {},
   "outputs": [],
   "source": [
    "#usamos la base de datos iris"
   ]
  },
  {
   "cell_type": "markdown",
   "metadata": {},
   "source": [
    "## Tipos de pruebas"
   ]
  },
  {
   "cell_type": "markdown",
   "metadata": {},
   "source": [
    "### a) Distribuvión T de Student"
   ]
  },
  {
   "cell_type": "code",
   "execution_count": 88,
   "metadata": {},
   "outputs": [
    {
     "name": "stderr",
     "output_type": "stream",
     "text": [
      "C:\\Users\\danie\\AppData\\Local\\Temp\\ipykernel_20032\\2921155475.py:2: FutureWarning: Dropping of nuisance columns in DataFrame reductions (with 'numeric_only=None') is deprecated; in a future version this will raise TypeError.  Select only valid columns before calling the reduction.\n",
      "  se_length = iris.std()['sepal-length']/np.sqrt(10)\n",
      "C:\\Users\\danie\\AppData\\Local\\Temp\\ipykernel_20032\\2921155475.py:3: FutureWarning: Dropping of nuisance columns in DataFrame reductions (with 'numeric_only=None') is deprecated; in a future version this will raise TypeError.  Select only valid columns before calling the reduction.\n",
      "  se_width = iris.std()['sepal-width']/np.sqrt(10)\n"
     ]
    }
   ],
   "source": [
    "#SE\n",
    "se_length = iris.std()['sepal-length']/np.sqrt(10)\n",
    "se_width = iris.std()['sepal-width']/np.sqrt(10)"
   ]
  },
  {
   "cell_type": "code",
   "execution_count": 89,
   "metadata": {},
   "outputs": [
    {
     "name": "stderr",
     "output_type": "stream",
     "text": [
      "C:\\Users\\danie\\AppData\\Local\\Temp\\ipykernel_20032\\1294123547.py:2: FutureWarning: Dropping of nuisance columns in DataFrame reductions (with 'numeric_only=None') is deprecated; in a future version this will raise TypeError.  Select only valid columns before calling the reduction.\n",
      "  se_se_length = iris.std()['sepal-length']/np.sqrt(10)\n",
      "C:\\Users\\danie\\AppData\\Local\\Temp\\ipykernel_20032\\1294123547.py:3: FutureWarning: Dropping of nuisance columns in DataFrame reductions (with 'numeric_only=None') is deprecated; in a future version this will raise TypeError.  Select only valid columns before calling the reduction.\n",
      "  se_pe_length = iris.std()['petal-length']/np.sqrt(10)\n"
     ]
    }
   ],
   "source": [
    "#SE sepal vs petal length\n",
    "se_se_length = iris.std()['sepal-length']/np.sqrt(10)\n",
    "se_pe_length = iris.std()['petal-length']/np.sqrt(10)"
   ]
  },
  {
   "cell_type": "code",
   "execution_count": 72,
   "metadata": {},
   "outputs": [],
   "source": [
    "\n",
    "#SED\n",
    "sed = np.sqrt((se_length**2)+(se_width**2))\n"
   ]
  },
  {
   "cell_type": "code",
   "execution_count": 90,
   "metadata": {},
   "outputs": [],
   "source": [
    "#SED sepal vs petal\n",
    "sed_sp = np.sqrt((se_se_length**2)+(se_pe_length**2))"
   ]
  },
  {
   "cell_type": "code",
   "execution_count": 75,
   "metadata": {},
   "outputs": [
    {
     "name": "stderr",
     "output_type": "stream",
     "text": [
      "C:\\Users\\danie\\AppData\\Local\\Temp\\ipykernel_20032\\1441014764.py:1: FutureWarning: Dropping of nuisance columns in DataFrame reductions (with 'numeric_only=None') is deprecated; in a future version this will raise TypeError.  Select only valid columns before calling the reduction.\n",
      "  t_stat = (iris.mean()['sepal-length']-iris.mean()['sepal-width'])/sed\n"
     ]
    },
    {
     "data": {
      "text/plain": [
       "9.436693738890318"
      ]
     },
     "execution_count": 75,
     "metadata": {},
     "output_type": "execute_result"
    }
   ],
   "source": [
    "t_stat = (iris.mean()['sepal-length']-iris.mean()['sepal-width'])/sed\n",
    "t_stat"
   ]
  },
  {
   "cell_type": "code",
   "execution_count": 93,
   "metadata": {},
   "outputs": [
    {
     "name": "stderr",
     "output_type": "stream",
     "text": [
      "C:\\Users\\danie\\AppData\\Local\\Temp\\ipykernel_20032\\3177698466.py:2: FutureWarning: Dropping of nuisance columns in DataFrame reductions (with 'numeric_only=None') is deprecated; in a future version this will raise TypeError.  Select only valid columns before calling the reduction.\n",
      "  t_stat_sp = (iris.mean()['sepal-length']-iris.mean()['petal-length'])/sed\n"
     ]
    },
    {
     "data": {
      "text/plain": [
       "7.05271064089628"
      ]
     },
     "execution_count": 93,
     "metadata": {},
     "output_type": "execute_result"
    }
   ],
   "source": [
    "#Sepal vs Petal\n",
    "t_stat_sp = (iris.mean()['sepal-length']-iris.mean()['petal-length'])/sed\n",
    "t_stat_sp"
   ]
  },
  {
   "cell_type": "code",
   "execution_count": 85,
   "metadata": {},
   "outputs": [
    {
     "data": {
      "text/plain": [
       "Ttest_indResult(statistic=36.548157693982006, pvalue=3.987838114848222e-112)"
      ]
     },
     "execution_count": 85,
     "metadata": {},
     "output_type": "execute_result"
    }
   ],
   "source": [
    "p = st.ttest_ind(iris['sepal-length'], iris['sepal-width'])\n",
    "p\n",
    "# Se rechaza la hipotesis de que los valores sean similares ya que el valor de length es mucho mas alto que el del width"
   ]
  },
  {
   "cell_type": "code",
   "execution_count": 95,
   "metadata": {},
   "outputs": [
    {
     "data": {
      "text/plain": [
       "Ttest_indResult(statistic=13.099504494510061, pvalue=2.8297338637366177e-31)"
      ]
     },
     "execution_count": 95,
     "metadata": {},
     "output_type": "execute_result"
    }
   ],
   "source": [
    "#ttest SP\n",
    "p_sp = st.ttest_ind(iris['sepal-length'], iris['petal-length'])\n",
    "p_sp\n",
    "# Se rechaza la hipotesis de que los valores sean similares ya que el valor de sepal es mucho mas alto que el del petal"
   ]
  },
  {
   "cell_type": "markdown",
   "metadata": {},
   "source": [
    "## b) Correlacion y coeficiente de Pearson"
   ]
  },
  {
   "cell_type": "code",
   "execution_count": 84,
   "metadata": {},
   "outputs": [
    {
     "data": {
      "text/plain": [
       "-0.1093692499506493"
      ]
     },
     "execution_count": 84,
     "metadata": {},
     "output_type": "execute_result"
    }
   ],
   "source": [
    "iris['sepal-length'].corr(iris['sepal-width'])\n",
    "#Correlacion debil o inexistente"
   ]
  },
  {
   "cell_type": "code",
   "execution_count": 96,
   "metadata": {},
   "outputs": [
    {
     "data": {
      "text/plain": [
       "0.8717541573048712"
      ]
     },
     "execution_count": 96,
     "metadata": {},
     "output_type": "execute_result"
    }
   ],
   "source": [
    "# Correlacion SP\n",
    "iris['sepal-length'].corr(iris['petal-length'])\n",
    "#Correlacion positiva donde ambas recen en funcion de la otra"
   ]
  },
  {
   "cell_type": "code",
   "execution_count": 86,
   "metadata": {},
   "outputs": [
    {
     "data": {
      "text/plain": [
       "(-0.10936924995064938, 0.1827652152713699)"
      ]
     },
     "execution_count": 86,
     "metadata": {},
     "output_type": "execute_result"
    }
   ],
   "source": [
    "st.pearsonr(iris['sepal-length'], iris['sepal-width'])\n",
    "#son muy cercanos a cero ambas, es decir que son variables independientes"
   ]
  },
  {
   "cell_type": "code",
   "execution_count": 98,
   "metadata": {},
   "outputs": [
    {
     "data": {
      "text/plain": [
       "(0.8717541573048713, 1.0384540627941062e-47)"
      ]
     },
     "execution_count": 98,
     "metadata": {},
     "output_type": "execute_result"
    }
   ],
   "source": [
    "#SP\n",
    "st.pearsonr(iris['sepal-length'], iris['petal-length'])\n",
    "#Correlacion positiva"
   ]
  },
  {
   "cell_type": "markdown",
   "metadata": {},
   "source": [
    "## c) Análisis de la varianza ANOVA"
   ]
  },
  {
   "cell_type": "code",
   "execution_count": 87,
   "metadata": {},
   "outputs": [
    {
     "data": {
      "text/plain": [
       "F_onewayResult(statistic=1335.7678308241748, pvalue=3.9878381148486907e-112)"
      ]
     },
     "execution_count": 87,
     "metadata": {},
     "output_type": "execute_result"
    }
   ],
   "source": [
    "f_oneway(iris['sepal-length'],iris['sepal-width'])\n",
    "#Se rechaza la hipotesis nula de que las variables son similares. el valor pvalue es muy bajo"
   ]
  },
  {
   "cell_type": "code",
   "execution_count": 99,
   "metadata": {},
   "outputs": [
    {
     "data": {
      "text/plain": [
       "F_onewayResult(statistic=171.59701800168915, pvalue=2.829733863736772e-31)"
      ]
     },
     "execution_count": 99,
     "metadata": {},
     "output_type": "execute_result"
    }
   ],
   "source": [
    "f_oneway(iris['sepal-length'],iris['petal-length'])\n",
    "#Se rechaza la hipotesis nula de que las variables son similares. el valor pvalue es muy bajo"
   ]
  },
  {
   "cell_type": "markdown",
   "metadata": {},
   "source": [
    "# **Bootstraping**\n",
    "Bootstrapping es un método de remuestreo con reemplazo.\n",
    "\n",
    "¿Y qué es remuestreo con reemplazo?\n",
    "Dado que partimos de una muestra, de esta muestra volvemos a obtener una muestra. O sea, una muestra de la muestra. Y decimos con reemplazo porque la muestra original, siempre mantiene todos sus elementos.\n",
    "\n",
    "**¿Por qué usar bootstrapping?**\n",
    "\n",
    "Porque es un método muy versátil y tenemos acceso al poder de cómputo necesario para hacerlo.\n",
    "\n",
    "Como recordarás de clases anteriores de este curso, los métodos de t student y de Pearson asumen criterios de la población. Pero esto no siempre es así. No siempre podremos asumir ciertos parámetros y es aquí que bootstrapping se vuelve muy útil porque hace simulaciones de las muestras.\n",
    "\n",
    "Además, hoy en día es muy accesible la capacidad de cómputo para hacerlo (a menos que sea big data). Bootstrapping es un método que se desarrolló en los 80s, cuando la computación era muy limitada."
   ]
  },
  {
   "cell_type": "markdown",
   "metadata": {},
   "source": [
    "## Bootstraping en python"
   ]
  },
  {
   "cell_type": "code",
   "execution_count": 100,
   "metadata": {},
   "outputs": [],
   "source": [
    "import random"
   ]
  },
  {
   "cell_type": "code",
   "execution_count": 101,
   "metadata": {},
   "outputs": [
    {
     "data": {
      "text/plain": [
       "array([32.72049734, 34.24571517, 33.9558052 , ..., 33.4997036 ,\n",
       "       31.95154722, 32.50619463])"
      ]
     },
     "execution_count": 101,
     "metadata": {},
     "output_type": "execute_result"
    }
   ],
   "source": [
    "data = np.random.normal(loc = 34, size = 10000)\n",
    "data"
   ]
  },
  {
   "cell_type": "code",
   "execution_count": 102,
   "metadata": {},
   "outputs": [
    {
     "data": {
      "text/plain": [
       "34.01569046435315"
      ]
     },
     "execution_count": 102,
     "metadata": {},
     "output_type": "execute_result"
    }
   ],
   "source": [
    "data.mean()"
   ]
  },
  {
   "cell_type": "markdown",
   "metadata": {},
   "source": [
    "### Iniciamos bootstraping para calcular promedio de edades"
   ]
  },
  {
   "cell_type": "code",
   "execution_count": 103,
   "metadata": {},
   "outputs": [],
   "source": [
    "promedio = []\n",
    "for i in range(40):\n",
    "    muestra = random.sample(data.tolist(), 5)\n",
    "    prom = np.mean(muestra)\n",
    "    promedio.append(prom)"
   ]
  },
  {
   "cell_type": "code",
   "execution_count": 104,
   "metadata": {},
   "outputs": [
    {
     "data": {
      "text/plain": [
       "33.98624382993205"
      ]
     },
     "execution_count": 104,
     "metadata": {},
     "output_type": "execute_result"
    }
   ],
   "source": [
    "np.mean(promedio)"
   ]
  },
  {
   "cell_type": "markdown",
   "metadata": {},
   "source": [
    "# Validación cruzada   "
   ]
  },
  {
   "cell_type": "code",
   "execution_count": 105,
   "metadata": {},
   "outputs": [],
   "source": [
    "import io"
   ]
  },
  {
   "cell_type": "code",
   "execution_count": 110,
   "metadata": {},
   "outputs": [
    {
     "data": {
      "text/html": [
       "<div>\n",
       "<style scoped>\n",
       "    .dataframe tbody tr th:only-of-type {\n",
       "        vertical-align: middle;\n",
       "    }\n",
       "\n",
       "    .dataframe tbody tr th {\n",
       "        vertical-align: top;\n",
       "    }\n",
       "\n",
       "    .dataframe thead th {\n",
       "        text-align: right;\n",
       "    }\n",
       "</style>\n",
       "<table border=\"1\" class=\"dataframe\">\n",
       "  <thead>\n",
       "    <tr style=\"text-align: right;\">\n",
       "      <th></th>\n",
       "      <th>id</th>\n",
       "      <th>diagnosis</th>\n",
       "      <th>radius_mean</th>\n",
       "      <th>texture_mean</th>\n",
       "      <th>perimeter_mean</th>\n",
       "      <th>area_mean</th>\n",
       "      <th>smoothness_mean</th>\n",
       "      <th>compactness_mean</th>\n",
       "      <th>concavity_mean</th>\n",
       "      <th>concave points_mean</th>\n",
       "      <th>...</th>\n",
       "      <th>radius_worst</th>\n",
       "      <th>texture_worst</th>\n",
       "      <th>perimeter_worst</th>\n",
       "      <th>area_worst</th>\n",
       "      <th>smoothness_worst</th>\n",
       "      <th>compactness_worst</th>\n",
       "      <th>concavity_worst</th>\n",
       "      <th>concave points_worst</th>\n",
       "      <th>symmetry_worst</th>\n",
       "      <th>fractal_dimension_worst</th>\n",
       "    </tr>\n",
       "  </thead>\n",
       "  <tbody>\n",
       "    <tr>\n",
       "      <th>0</th>\n",
       "      <td>842302</td>\n",
       "      <td>M</td>\n",
       "      <td>17.99</td>\n",
       "      <td>10.38</td>\n",
       "      <td>122.80</td>\n",
       "      <td>1001.0</td>\n",
       "      <td>0.11840</td>\n",
       "      <td>0.27760</td>\n",
       "      <td>0.30010</td>\n",
       "      <td>0.14710</td>\n",
       "      <td>...</td>\n",
       "      <td>25.380</td>\n",
       "      <td>17.33</td>\n",
       "      <td>184.60</td>\n",
       "      <td>2019.0</td>\n",
       "      <td>0.16220</td>\n",
       "      <td>0.66560</td>\n",
       "      <td>0.7119</td>\n",
       "      <td>0.2654</td>\n",
       "      <td>0.4601</td>\n",
       "      <td>0.11890</td>\n",
       "    </tr>\n",
       "    <tr>\n",
       "      <th>1</th>\n",
       "      <td>842517</td>\n",
       "      <td>M</td>\n",
       "      <td>20.57</td>\n",
       "      <td>17.77</td>\n",
       "      <td>132.90</td>\n",
       "      <td>1326.0</td>\n",
       "      <td>0.08474</td>\n",
       "      <td>0.07864</td>\n",
       "      <td>0.08690</td>\n",
       "      <td>0.07017</td>\n",
       "      <td>...</td>\n",
       "      <td>24.990</td>\n",
       "      <td>23.41</td>\n",
       "      <td>158.80</td>\n",
       "      <td>1956.0</td>\n",
       "      <td>0.12380</td>\n",
       "      <td>0.18660</td>\n",
       "      <td>0.2416</td>\n",
       "      <td>0.1860</td>\n",
       "      <td>0.2750</td>\n",
       "      <td>0.08902</td>\n",
       "    </tr>\n",
       "    <tr>\n",
       "      <th>2</th>\n",
       "      <td>84300903</td>\n",
       "      <td>M</td>\n",
       "      <td>19.69</td>\n",
       "      <td>21.25</td>\n",
       "      <td>130.00</td>\n",
       "      <td>1203.0</td>\n",
       "      <td>0.10960</td>\n",
       "      <td>0.15990</td>\n",
       "      <td>0.19740</td>\n",
       "      <td>0.12790</td>\n",
       "      <td>...</td>\n",
       "      <td>23.570</td>\n",
       "      <td>25.53</td>\n",
       "      <td>152.50</td>\n",
       "      <td>1709.0</td>\n",
       "      <td>0.14440</td>\n",
       "      <td>0.42450</td>\n",
       "      <td>0.4504</td>\n",
       "      <td>0.2430</td>\n",
       "      <td>0.3613</td>\n",
       "      <td>0.08758</td>\n",
       "    </tr>\n",
       "    <tr>\n",
       "      <th>3</th>\n",
       "      <td>84348301</td>\n",
       "      <td>M</td>\n",
       "      <td>11.42</td>\n",
       "      <td>20.38</td>\n",
       "      <td>77.58</td>\n",
       "      <td>386.1</td>\n",
       "      <td>0.14250</td>\n",
       "      <td>0.28390</td>\n",
       "      <td>0.24140</td>\n",
       "      <td>0.10520</td>\n",
       "      <td>...</td>\n",
       "      <td>14.910</td>\n",
       "      <td>26.50</td>\n",
       "      <td>98.87</td>\n",
       "      <td>567.7</td>\n",
       "      <td>0.20980</td>\n",
       "      <td>0.86630</td>\n",
       "      <td>0.6869</td>\n",
       "      <td>0.2575</td>\n",
       "      <td>0.6638</td>\n",
       "      <td>0.17300</td>\n",
       "    </tr>\n",
       "    <tr>\n",
       "      <th>4</th>\n",
       "      <td>84358402</td>\n",
       "      <td>M</td>\n",
       "      <td>20.29</td>\n",
       "      <td>14.34</td>\n",
       "      <td>135.10</td>\n",
       "      <td>1297.0</td>\n",
       "      <td>0.10030</td>\n",
       "      <td>0.13280</td>\n",
       "      <td>0.19800</td>\n",
       "      <td>0.10430</td>\n",
       "      <td>...</td>\n",
       "      <td>22.540</td>\n",
       "      <td>16.67</td>\n",
       "      <td>152.20</td>\n",
       "      <td>1575.0</td>\n",
       "      <td>0.13740</td>\n",
       "      <td>0.20500</td>\n",
       "      <td>0.4000</td>\n",
       "      <td>0.1625</td>\n",
       "      <td>0.2364</td>\n",
       "      <td>0.07678</td>\n",
       "    </tr>\n",
       "    <tr>\n",
       "      <th>...</th>\n",
       "      <td>...</td>\n",
       "      <td>...</td>\n",
       "      <td>...</td>\n",
       "      <td>...</td>\n",
       "      <td>...</td>\n",
       "      <td>...</td>\n",
       "      <td>...</td>\n",
       "      <td>...</td>\n",
       "      <td>...</td>\n",
       "      <td>...</td>\n",
       "      <td>...</td>\n",
       "      <td>...</td>\n",
       "      <td>...</td>\n",
       "      <td>...</td>\n",
       "      <td>...</td>\n",
       "      <td>...</td>\n",
       "      <td>...</td>\n",
       "      <td>...</td>\n",
       "      <td>...</td>\n",
       "      <td>...</td>\n",
       "      <td>...</td>\n",
       "    </tr>\n",
       "    <tr>\n",
       "      <th>564</th>\n",
       "      <td>926424</td>\n",
       "      <td>M</td>\n",
       "      <td>21.56</td>\n",
       "      <td>22.39</td>\n",
       "      <td>142.00</td>\n",
       "      <td>1479.0</td>\n",
       "      <td>0.11100</td>\n",
       "      <td>0.11590</td>\n",
       "      <td>0.24390</td>\n",
       "      <td>0.13890</td>\n",
       "      <td>...</td>\n",
       "      <td>25.450</td>\n",
       "      <td>26.40</td>\n",
       "      <td>166.10</td>\n",
       "      <td>2027.0</td>\n",
       "      <td>0.14100</td>\n",
       "      <td>0.21130</td>\n",
       "      <td>0.4107</td>\n",
       "      <td>0.2216</td>\n",
       "      <td>0.2060</td>\n",
       "      <td>0.07115</td>\n",
       "    </tr>\n",
       "    <tr>\n",
       "      <th>565</th>\n",
       "      <td>926682</td>\n",
       "      <td>M</td>\n",
       "      <td>20.13</td>\n",
       "      <td>28.25</td>\n",
       "      <td>131.20</td>\n",
       "      <td>1261.0</td>\n",
       "      <td>0.09780</td>\n",
       "      <td>0.10340</td>\n",
       "      <td>0.14400</td>\n",
       "      <td>0.09791</td>\n",
       "      <td>...</td>\n",
       "      <td>23.690</td>\n",
       "      <td>38.25</td>\n",
       "      <td>155.00</td>\n",
       "      <td>1731.0</td>\n",
       "      <td>0.11660</td>\n",
       "      <td>0.19220</td>\n",
       "      <td>0.3215</td>\n",
       "      <td>0.1628</td>\n",
       "      <td>0.2572</td>\n",
       "      <td>0.06637</td>\n",
       "    </tr>\n",
       "    <tr>\n",
       "      <th>566</th>\n",
       "      <td>926954</td>\n",
       "      <td>M</td>\n",
       "      <td>16.60</td>\n",
       "      <td>28.08</td>\n",
       "      <td>108.30</td>\n",
       "      <td>858.1</td>\n",
       "      <td>0.08455</td>\n",
       "      <td>0.10230</td>\n",
       "      <td>0.09251</td>\n",
       "      <td>0.05302</td>\n",
       "      <td>...</td>\n",
       "      <td>18.980</td>\n",
       "      <td>34.12</td>\n",
       "      <td>126.70</td>\n",
       "      <td>1124.0</td>\n",
       "      <td>0.11390</td>\n",
       "      <td>0.30940</td>\n",
       "      <td>0.3403</td>\n",
       "      <td>0.1418</td>\n",
       "      <td>0.2218</td>\n",
       "      <td>0.07820</td>\n",
       "    </tr>\n",
       "    <tr>\n",
       "      <th>567</th>\n",
       "      <td>927241</td>\n",
       "      <td>M</td>\n",
       "      <td>20.60</td>\n",
       "      <td>29.33</td>\n",
       "      <td>140.10</td>\n",
       "      <td>1265.0</td>\n",
       "      <td>0.11780</td>\n",
       "      <td>0.27700</td>\n",
       "      <td>0.35140</td>\n",
       "      <td>0.15200</td>\n",
       "      <td>...</td>\n",
       "      <td>25.740</td>\n",
       "      <td>39.42</td>\n",
       "      <td>184.60</td>\n",
       "      <td>1821.0</td>\n",
       "      <td>0.16500</td>\n",
       "      <td>0.86810</td>\n",
       "      <td>0.9387</td>\n",
       "      <td>0.2650</td>\n",
       "      <td>0.4087</td>\n",
       "      <td>0.12400</td>\n",
       "    </tr>\n",
       "    <tr>\n",
       "      <th>568</th>\n",
       "      <td>92751</td>\n",
       "      <td>B</td>\n",
       "      <td>7.76</td>\n",
       "      <td>24.54</td>\n",
       "      <td>47.92</td>\n",
       "      <td>181.0</td>\n",
       "      <td>0.05263</td>\n",
       "      <td>0.04362</td>\n",
       "      <td>0.00000</td>\n",
       "      <td>0.00000</td>\n",
       "      <td>...</td>\n",
       "      <td>9.456</td>\n",
       "      <td>30.37</td>\n",
       "      <td>59.16</td>\n",
       "      <td>268.6</td>\n",
       "      <td>0.08996</td>\n",
       "      <td>0.06444</td>\n",
       "      <td>0.0000</td>\n",
       "      <td>0.0000</td>\n",
       "      <td>0.2871</td>\n",
       "      <td>0.07039</td>\n",
       "    </tr>\n",
       "  </tbody>\n",
       "</table>\n",
       "<p>569 rows × 32 columns</p>\n",
       "</div>"
      ],
      "text/plain": [
       "           id diagnosis  radius_mean  texture_mean  perimeter_mean  area_mean  \\\n",
       "0      842302         M        17.99         10.38          122.80     1001.0   \n",
       "1      842517         M        20.57         17.77          132.90     1326.0   \n",
       "2    84300903         M        19.69         21.25          130.00     1203.0   \n",
       "3    84348301         M        11.42         20.38           77.58      386.1   \n",
       "4    84358402         M        20.29         14.34          135.10     1297.0   \n",
       "..        ...       ...          ...           ...             ...        ...   \n",
       "564    926424         M        21.56         22.39          142.00     1479.0   \n",
       "565    926682         M        20.13         28.25          131.20     1261.0   \n",
       "566    926954         M        16.60         28.08          108.30      858.1   \n",
       "567    927241         M        20.60         29.33          140.10     1265.0   \n",
       "568     92751         B         7.76         24.54           47.92      181.0   \n",
       "\n",
       "     smoothness_mean  compactness_mean  concavity_mean  concave points_mean  \\\n",
       "0            0.11840           0.27760         0.30010              0.14710   \n",
       "1            0.08474           0.07864         0.08690              0.07017   \n",
       "2            0.10960           0.15990         0.19740              0.12790   \n",
       "3            0.14250           0.28390         0.24140              0.10520   \n",
       "4            0.10030           0.13280         0.19800              0.10430   \n",
       "..               ...               ...             ...                  ...   \n",
       "564          0.11100           0.11590         0.24390              0.13890   \n",
       "565          0.09780           0.10340         0.14400              0.09791   \n",
       "566          0.08455           0.10230         0.09251              0.05302   \n",
       "567          0.11780           0.27700         0.35140              0.15200   \n",
       "568          0.05263           0.04362         0.00000              0.00000   \n",
       "\n",
       "     ...  radius_worst  texture_worst  perimeter_worst  area_worst  \\\n",
       "0    ...        25.380          17.33           184.60      2019.0   \n",
       "1    ...        24.990          23.41           158.80      1956.0   \n",
       "2    ...        23.570          25.53           152.50      1709.0   \n",
       "3    ...        14.910          26.50            98.87       567.7   \n",
       "4    ...        22.540          16.67           152.20      1575.0   \n",
       "..   ...           ...            ...              ...         ...   \n",
       "564  ...        25.450          26.40           166.10      2027.0   \n",
       "565  ...        23.690          38.25           155.00      1731.0   \n",
       "566  ...        18.980          34.12           126.70      1124.0   \n",
       "567  ...        25.740          39.42           184.60      1821.0   \n",
       "568  ...         9.456          30.37            59.16       268.6   \n",
       "\n",
       "     smoothness_worst  compactness_worst  concavity_worst  \\\n",
       "0             0.16220            0.66560           0.7119   \n",
       "1             0.12380            0.18660           0.2416   \n",
       "2             0.14440            0.42450           0.4504   \n",
       "3             0.20980            0.86630           0.6869   \n",
       "4             0.13740            0.20500           0.4000   \n",
       "..                ...                ...              ...   \n",
       "564           0.14100            0.21130           0.4107   \n",
       "565           0.11660            0.19220           0.3215   \n",
       "566           0.11390            0.30940           0.3403   \n",
       "567           0.16500            0.86810           0.9387   \n",
       "568           0.08996            0.06444           0.0000   \n",
       "\n",
       "     concave points_worst  symmetry_worst  fractal_dimension_worst  \n",
       "0                  0.2654          0.4601                  0.11890  \n",
       "1                  0.1860          0.2750                  0.08902  \n",
       "2                  0.2430          0.3613                  0.08758  \n",
       "3                  0.2575          0.6638                  0.17300  \n",
       "4                  0.1625          0.2364                  0.07678  \n",
       "..                    ...             ...                      ...  \n",
       "564                0.2216          0.2060                  0.07115  \n",
       "565                0.1628          0.2572                  0.06637  \n",
       "566                0.1418          0.2218                  0.07820  \n",
       "567                0.2650          0.4087                  0.12400  \n",
       "568                0.0000          0.2871                  0.07039  \n",
       "\n",
       "[569 rows x 32 columns]"
      ]
     },
     "execution_count": 110,
     "metadata": {},
     "output_type": "execute_result"
    }
   ],
   "source": [
    "df = pd.read_csv(\"cancerdata.csv\")\n",
    "df"
   ]
  },
  {
   "cell_type": "code",
   "execution_count": 111,
   "metadata": {},
   "outputs": [],
   "source": [
    "x = df.iloc[:,2:]\n",
    "y = df.iloc[:,1]"
   ]
  },
  {
   "cell_type": "code",
   "execution_count": 112,
   "metadata": {},
   "outputs": [
    {
     "data": {
      "text/html": [
       "<div>\n",
       "<style scoped>\n",
       "    .dataframe tbody tr th:only-of-type {\n",
       "        vertical-align: middle;\n",
       "    }\n",
       "\n",
       "    .dataframe tbody tr th {\n",
       "        vertical-align: top;\n",
       "    }\n",
       "\n",
       "    .dataframe thead th {\n",
       "        text-align: right;\n",
       "    }\n",
       "</style>\n",
       "<table border=\"1\" class=\"dataframe\">\n",
       "  <thead>\n",
       "    <tr style=\"text-align: right;\">\n",
       "      <th></th>\n",
       "      <th>radius_mean</th>\n",
       "      <th>texture_mean</th>\n",
       "      <th>perimeter_mean</th>\n",
       "      <th>area_mean</th>\n",
       "      <th>smoothness_mean</th>\n",
       "      <th>compactness_mean</th>\n",
       "      <th>concavity_mean</th>\n",
       "      <th>concave points_mean</th>\n",
       "      <th>symmetry_mean</th>\n",
       "      <th>fractal_dimension_mean</th>\n",
       "      <th>...</th>\n",
       "      <th>radius_worst</th>\n",
       "      <th>texture_worst</th>\n",
       "      <th>perimeter_worst</th>\n",
       "      <th>area_worst</th>\n",
       "      <th>smoothness_worst</th>\n",
       "      <th>compactness_worst</th>\n",
       "      <th>concavity_worst</th>\n",
       "      <th>concave points_worst</th>\n",
       "      <th>symmetry_worst</th>\n",
       "      <th>fractal_dimension_worst</th>\n",
       "    </tr>\n",
       "  </thead>\n",
       "  <tbody>\n",
       "    <tr>\n",
       "      <th>0</th>\n",
       "      <td>17.99</td>\n",
       "      <td>10.38</td>\n",
       "      <td>122.80</td>\n",
       "      <td>1001.0</td>\n",
       "      <td>0.11840</td>\n",
       "      <td>0.27760</td>\n",
       "      <td>0.3001</td>\n",
       "      <td>0.14710</td>\n",
       "      <td>0.2419</td>\n",
       "      <td>0.07871</td>\n",
       "      <td>...</td>\n",
       "      <td>25.38</td>\n",
       "      <td>17.33</td>\n",
       "      <td>184.60</td>\n",
       "      <td>2019.0</td>\n",
       "      <td>0.1622</td>\n",
       "      <td>0.6656</td>\n",
       "      <td>0.7119</td>\n",
       "      <td>0.2654</td>\n",
       "      <td>0.4601</td>\n",
       "      <td>0.11890</td>\n",
       "    </tr>\n",
       "    <tr>\n",
       "      <th>1</th>\n",
       "      <td>20.57</td>\n",
       "      <td>17.77</td>\n",
       "      <td>132.90</td>\n",
       "      <td>1326.0</td>\n",
       "      <td>0.08474</td>\n",
       "      <td>0.07864</td>\n",
       "      <td>0.0869</td>\n",
       "      <td>0.07017</td>\n",
       "      <td>0.1812</td>\n",
       "      <td>0.05667</td>\n",
       "      <td>...</td>\n",
       "      <td>24.99</td>\n",
       "      <td>23.41</td>\n",
       "      <td>158.80</td>\n",
       "      <td>1956.0</td>\n",
       "      <td>0.1238</td>\n",
       "      <td>0.1866</td>\n",
       "      <td>0.2416</td>\n",
       "      <td>0.1860</td>\n",
       "      <td>0.2750</td>\n",
       "      <td>0.08902</td>\n",
       "    </tr>\n",
       "    <tr>\n",
       "      <th>2</th>\n",
       "      <td>19.69</td>\n",
       "      <td>21.25</td>\n",
       "      <td>130.00</td>\n",
       "      <td>1203.0</td>\n",
       "      <td>0.10960</td>\n",
       "      <td>0.15990</td>\n",
       "      <td>0.1974</td>\n",
       "      <td>0.12790</td>\n",
       "      <td>0.2069</td>\n",
       "      <td>0.05999</td>\n",
       "      <td>...</td>\n",
       "      <td>23.57</td>\n",
       "      <td>25.53</td>\n",
       "      <td>152.50</td>\n",
       "      <td>1709.0</td>\n",
       "      <td>0.1444</td>\n",
       "      <td>0.4245</td>\n",
       "      <td>0.4504</td>\n",
       "      <td>0.2430</td>\n",
       "      <td>0.3613</td>\n",
       "      <td>0.08758</td>\n",
       "    </tr>\n",
       "    <tr>\n",
       "      <th>3</th>\n",
       "      <td>11.42</td>\n",
       "      <td>20.38</td>\n",
       "      <td>77.58</td>\n",
       "      <td>386.1</td>\n",
       "      <td>0.14250</td>\n",
       "      <td>0.28390</td>\n",
       "      <td>0.2414</td>\n",
       "      <td>0.10520</td>\n",
       "      <td>0.2597</td>\n",
       "      <td>0.09744</td>\n",
       "      <td>...</td>\n",
       "      <td>14.91</td>\n",
       "      <td>26.50</td>\n",
       "      <td>98.87</td>\n",
       "      <td>567.7</td>\n",
       "      <td>0.2098</td>\n",
       "      <td>0.8663</td>\n",
       "      <td>0.6869</td>\n",
       "      <td>0.2575</td>\n",
       "      <td>0.6638</td>\n",
       "      <td>0.17300</td>\n",
       "    </tr>\n",
       "    <tr>\n",
       "      <th>4</th>\n",
       "      <td>20.29</td>\n",
       "      <td>14.34</td>\n",
       "      <td>135.10</td>\n",
       "      <td>1297.0</td>\n",
       "      <td>0.10030</td>\n",
       "      <td>0.13280</td>\n",
       "      <td>0.1980</td>\n",
       "      <td>0.10430</td>\n",
       "      <td>0.1809</td>\n",
       "      <td>0.05883</td>\n",
       "      <td>...</td>\n",
       "      <td>22.54</td>\n",
       "      <td>16.67</td>\n",
       "      <td>152.20</td>\n",
       "      <td>1575.0</td>\n",
       "      <td>0.1374</td>\n",
       "      <td>0.2050</td>\n",
       "      <td>0.4000</td>\n",
       "      <td>0.1625</td>\n",
       "      <td>0.2364</td>\n",
       "      <td>0.07678</td>\n",
       "    </tr>\n",
       "  </tbody>\n",
       "</table>\n",
       "<p>5 rows × 30 columns</p>\n",
       "</div>"
      ],
      "text/plain": [
       "   radius_mean  texture_mean  perimeter_mean  area_mean  smoothness_mean  \\\n",
       "0        17.99         10.38          122.80     1001.0          0.11840   \n",
       "1        20.57         17.77          132.90     1326.0          0.08474   \n",
       "2        19.69         21.25          130.00     1203.0          0.10960   \n",
       "3        11.42         20.38           77.58      386.1          0.14250   \n",
       "4        20.29         14.34          135.10     1297.0          0.10030   \n",
       "\n",
       "   compactness_mean  concavity_mean  concave points_mean  symmetry_mean  \\\n",
       "0           0.27760          0.3001              0.14710         0.2419   \n",
       "1           0.07864          0.0869              0.07017         0.1812   \n",
       "2           0.15990          0.1974              0.12790         0.2069   \n",
       "3           0.28390          0.2414              0.10520         0.2597   \n",
       "4           0.13280          0.1980              0.10430         0.1809   \n",
       "\n",
       "   fractal_dimension_mean  ...  radius_worst  texture_worst  perimeter_worst  \\\n",
       "0                 0.07871  ...         25.38          17.33           184.60   \n",
       "1                 0.05667  ...         24.99          23.41           158.80   \n",
       "2                 0.05999  ...         23.57          25.53           152.50   \n",
       "3                 0.09744  ...         14.91          26.50            98.87   \n",
       "4                 0.05883  ...         22.54          16.67           152.20   \n",
       "\n",
       "   area_worst  smoothness_worst  compactness_worst  concavity_worst  \\\n",
       "0      2019.0            0.1622             0.6656           0.7119   \n",
       "1      1956.0            0.1238             0.1866           0.2416   \n",
       "2      1709.0            0.1444             0.4245           0.4504   \n",
       "3       567.7            0.2098             0.8663           0.6869   \n",
       "4      1575.0            0.1374             0.2050           0.4000   \n",
       "\n",
       "   concave points_worst  symmetry_worst  fractal_dimension_worst  \n",
       "0                0.2654          0.4601                  0.11890  \n",
       "1                0.1860          0.2750                  0.08902  \n",
       "2                0.2430          0.3613                  0.08758  \n",
       "3                0.2575          0.6638                  0.17300  \n",
       "4                0.1625          0.2364                  0.07678  \n",
       "\n",
       "[5 rows x 30 columns]"
      ]
     },
     "execution_count": 112,
     "metadata": {},
     "output_type": "execute_result"
    }
   ],
   "source": [
    "x.head()"
   ]
  },
  {
   "cell_type": "code",
   "execution_count": 113,
   "metadata": {},
   "outputs": [
    {
     "data": {
      "text/plain": [
       "B    357\n",
       "M    212\n",
       "Name: diagnosis, dtype: int64"
      ]
     },
     "execution_count": 113,
     "metadata": {},
     "output_type": "execute_result"
    }
   ],
   "source": [
    "y.value_counts"
   ]
  },
  {
   "cell_type": "code",
   "execution_count": 114,
   "metadata": {},
   "outputs": [
    {
     "name": "stdout",
     "output_type": "stream",
     "text": [
      "0.8333333333333334\n"
     ]
    }
   ],
   "source": [
    "from sklearn.tree import DecisionTreeClassifier\n",
    "from sklearn.model_selection import train_test_split\n",
    "\n",
    "# nivel de preision\n",
    "x_train, x_test, y_train, y_test = train_test_split(x, y, test_size = 30, random_state= 4)\n",
    "\n",
    "modelo= DecisionTreeClassifier()\n",
    "modelo.fit(x_train, y_train)\n",
    "resultado = modelo.score(x_test, y_test)\n",
    "print(resultado)"
   ]
  },
  {
   "cell_type": "code",
   "execution_count": 116,
   "metadata": {},
   "outputs": [],
   "source": [
    "#Validacion cruzada\n",
    "\n",
    "from sklearn.model_selection import KFold\n",
    "\n",
    "modelo= DecisionTreeClassifier()\n",
    "kfold_validacion = KFold(10)"
   ]
  },
  {
   "cell_type": "code",
   "execution_count": 118,
   "metadata": {},
   "outputs": [
    {
     "name": "stdout",
     "output_type": "stream",
     "text": [
      "[0.94736842 0.9122807  0.89473684 0.94736842 0.9122807  0.96491228\n",
      " 0.9122807  0.96491228 0.96491228 0.89285714]\n"
     ]
    },
    {
     "data": {
      "text/plain": [
       "0.9313909774436091"
      ]
     },
     "execution_count": 118,
     "metadata": {},
     "output_type": "execute_result"
    }
   ],
   "source": [
    "from sklearn.model_selection import cross_val_score\n",
    "\n",
    "resultados = cross_val_score(modelo, x, y, cv = kfold_validacion)\n",
    "print(resultados)\n",
    "resultados.mean()"
   ]
  }
 ],
 "metadata": {
  "kernelspec": {
   "display_name": "Python 3.10.6 64-bit (windows store)",
   "language": "python",
   "name": "python3"
  },
  "language_info": {
   "codemirror_mode": {
    "name": "ipython",
    "version": 3
   },
   "file_extension": ".py",
   "mimetype": "text/x-python",
   "name": "python",
   "nbconvert_exporter": "python",
   "pygments_lexer": "ipython3",
   "version": "3.10.6"
  },
  "orig_nbformat": 4,
  "vscode": {
   "interpreter": {
    "hash": "602bbe8e8fe3127dc2d2bb8f57c49cfbb507be2cc0e090f10eb4c4d0af354b8b"
   }
  }
 },
 "nbformat": 4,
 "nbformat_minor": 2
}
