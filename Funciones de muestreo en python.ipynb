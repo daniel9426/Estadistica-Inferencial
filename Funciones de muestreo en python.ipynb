{
 "cells": [
  {
   "cell_type": "code",
   "execution_count": 3,
   "metadata": {},
   "outputs": [],
   "source": [
    "import pandas as pd\n",
    "import numpy as np\n",
    "import random\n",
    "import io"
   ]
  },
  {
   "cell_type": "markdown",
   "metadata": {},
   "source": [
    "### Leemos la base de datos a trabajar en nuestra ruta de origen"
   ]
  },
  {
   "cell_type": "code",
   "execution_count": 4,
   "metadata": {},
   "outputs": [],
   "source": [
    "econdata = pd.read_csv(\"econdata.csv\")"
   ]
  },
  {
   "cell_type": "code",
   "execution_count": 5,
   "metadata": {},
   "outputs": [
    {
     "data": {
      "text/html": [
       "<div>\n",
       "<style scoped>\n",
       "    .dataframe tbody tr th:only-of-type {\n",
       "        vertical-align: middle;\n",
       "    }\n",
       "\n",
       "    .dataframe tbody tr th {\n",
       "        vertical-align: top;\n",
       "    }\n",
       "\n",
       "    .dataframe thead th {\n",
       "        text-align: right;\n",
       "    }\n",
       "</style>\n",
       "<table border=\"1\" class=\"dataframe\">\n",
       "  <thead>\n",
       "    <tr style=\"text-align: right;\">\n",
       "      <th></th>\n",
       "      <th>id</th>\n",
       "      <th>geo_point_2d</th>\n",
       "      <th>geo_shape</th>\n",
       "      <th>clave_cat</th>\n",
       "      <th>delegacion</th>\n",
       "      <th>perimetro</th>\n",
       "      <th>tipo</th>\n",
       "      <th>nom_id</th>\n",
       "    </tr>\n",
       "  </thead>\n",
       "  <tbody>\n",
       "    <tr>\n",
       "      <th>0</th>\n",
       "      <td>0</td>\n",
       "      <td>19.424781053,-99.1327537959</td>\n",
       "      <td>{\"type\": \"Polygon\", \"coordinates\": [[[-99.1332...</td>\n",
       "      <td>307_130_11</td>\n",
       "      <td>Cuauhtémoc</td>\n",
       "      <td>B</td>\n",
       "      <td>Mercado</td>\n",
       "      <td>Pino Suárez</td>\n",
       "    </tr>\n",
       "    <tr>\n",
       "      <th>1</th>\n",
       "      <td>1</td>\n",
       "      <td>19.4346139576,-99.1413808393</td>\n",
       "      <td>{\"type\": \"MultiPoint\", \"coordinates\": [[-99.14...</td>\n",
       "      <td>002_008_01</td>\n",
       "      <td>Cuautémoc</td>\n",
       "      <td>A</td>\n",
       "      <td>Museo</td>\n",
       "      <td>Museo Nacional de Arquitectura Palacio de Bell...</td>\n",
       "    </tr>\n",
       "    <tr>\n",
       "      <th>2</th>\n",
       "      <td>2</td>\n",
       "      <td>19.4340695945,-99.1306348409</td>\n",
       "      <td>{\"type\": \"MultiPoint\", \"coordinates\": [[-99.13...</td>\n",
       "      <td>006_002_12</td>\n",
       "      <td>Cuautémoc</td>\n",
       "      <td>A</td>\n",
       "      <td>Museo</td>\n",
       "      <td>Santa Teresa</td>\n",
       "    </tr>\n",
       "    <tr>\n",
       "      <th>3</th>\n",
       "      <td>3</td>\n",
       "      <td>19.42489472,-99.12073393</td>\n",
       "      <td>{\"type\": \"MultiPoint\", \"coordinates\": [[-99.12...</td>\n",
       "      <td>323_102_06</td>\n",
       "      <td>Venustiano Carranza</td>\n",
       "      <td>B</td>\n",
       "      <td>Hotel</td>\n",
       "      <td>Balbuena</td>\n",
       "    </tr>\n",
       "    <tr>\n",
       "      <th>4</th>\n",
       "      <td>4</td>\n",
       "      <td>19.42358238,-99.12451093</td>\n",
       "      <td>{\"type\": \"MultiPoint\", \"coordinates\": [[-99.12...</td>\n",
       "      <td>323_115_12</td>\n",
       "      <td>Venustiano Carranza</td>\n",
       "      <td>B</td>\n",
       "      <td>Hotel</td>\n",
       "      <td>real</td>\n",
       "    </tr>\n",
       "  </tbody>\n",
       "</table>\n",
       "</div>"
      ],
      "text/plain": [
       "   id                  geo_point_2d  \\\n",
       "0   0   19.424781053,-99.1327537959   \n",
       "1   1  19.4346139576,-99.1413808393   \n",
       "2   2  19.4340695945,-99.1306348409   \n",
       "3   3      19.42489472,-99.12073393   \n",
       "4   4      19.42358238,-99.12451093   \n",
       "\n",
       "                                           geo_shape   clave_cat  \\\n",
       "0  {\"type\": \"Polygon\", \"coordinates\": [[[-99.1332...  307_130_11   \n",
       "1  {\"type\": \"MultiPoint\", \"coordinates\": [[-99.14...  002_008_01   \n",
       "2  {\"type\": \"MultiPoint\", \"coordinates\": [[-99.13...  006_002_12   \n",
       "3  {\"type\": \"MultiPoint\", \"coordinates\": [[-99.12...  323_102_06   \n",
       "4  {\"type\": \"MultiPoint\", \"coordinates\": [[-99.12...  323_115_12   \n",
       "\n",
       "            delegacion perimetro     tipo  \\\n",
       "0           Cuauhtémoc         B  Mercado   \n",
       "1            Cuautémoc         A    Museo   \n",
       "2            Cuautémoc         A    Museo   \n",
       "3  Venustiano Carranza         B    Hotel   \n",
       "4  Venustiano Carranza         B    Hotel   \n",
       "\n",
       "                                              nom_id  \n",
       "0                                        Pino Suárez  \n",
       "1  Museo Nacional de Arquitectura Palacio de Bell...  \n",
       "2                                       Santa Teresa  \n",
       "3                                           Balbuena  \n",
       "4                                               real  "
      ]
     },
     "execution_count": 5,
     "metadata": {},
     "output_type": "execute_result"
    }
   ],
   "source": [
    "econdata.head(5)"
   ]
  },
  {
   "cell_type": "markdown",
   "metadata": {},
   "source": [
    "### Funciones de muestreo"
   ]
  },
  {
   "cell_type": "markdown",
   "metadata": {},
   "source": [
    "## 1) Muestreo aleatorio simple"
   ]
  },
  {
   "cell_type": "code",
   "execution_count": 6,
   "metadata": {},
   "outputs": [
    {
     "data": {
      "text/html": [
       "<div>\n",
       "<style scoped>\n",
       "    .dataframe tbody tr th:only-of-type {\n",
       "        vertical-align: middle;\n",
       "    }\n",
       "\n",
       "    .dataframe tbody tr th {\n",
       "        vertical-align: top;\n",
       "    }\n",
       "\n",
       "    .dataframe thead th {\n",
       "        text-align: right;\n",
       "    }\n",
       "</style>\n",
       "<table border=\"1\" class=\"dataframe\">\n",
       "  <thead>\n",
       "    <tr style=\"text-align: right;\">\n",
       "      <th></th>\n",
       "      <th>id</th>\n",
       "      <th>geo_point_2d</th>\n",
       "      <th>geo_shape</th>\n",
       "      <th>clave_cat</th>\n",
       "      <th>delegacion</th>\n",
       "      <th>perimetro</th>\n",
       "      <th>tipo</th>\n",
       "      <th>nom_id</th>\n",
       "    </tr>\n",
       "  </thead>\n",
       "  <tbody>\n",
       "    <tr>\n",
       "      <th>63</th>\n",
       "      <td>63</td>\n",
       "      <td>19.4339116282,-99.1468371035</td>\n",
       "      <td>{\"type\": \"MultiPoint\", \"coordinates\": [[-99.14...</td>\n",
       "      <td>002_015_07</td>\n",
       "      <td>Cuautémoc</td>\n",
       "      <td>B</td>\n",
       "      <td>Hotel</td>\n",
       "      <td>Calvin</td>\n",
       "    </tr>\n",
       "    <tr>\n",
       "      <th>86</th>\n",
       "      <td>86</td>\n",
       "      <td>19.4244645173,-99.1433325213</td>\n",
       "      <td>{\"type\": \"MultiPoint\", \"coordinates\": [[-99.14...</td>\n",
       "      <td>002_085_04</td>\n",
       "      <td>Cuautémoc</td>\n",
       "      <td>B</td>\n",
       "      <td>Hotel</td>\n",
       "      <td>San Juan</td>\n",
       "    </tr>\n",
       "    <tr>\n",
       "      <th>54</th>\n",
       "      <td>54</td>\n",
       "      <td>19.4263645964,-99.1399088724</td>\n",
       "      <td>{\"type\": \"MultiPoint\", \"coordinates\": [[-99.13...</td>\n",
       "      <td>001_076_12</td>\n",
       "      <td>Cuautémoc</td>\n",
       "      <td>B</td>\n",
       "      <td>Hotel</td>\n",
       "      <td>Cadillac, S.A. DE C.V.</td>\n",
       "    </tr>\n",
       "    <tr>\n",
       "      <th>53</th>\n",
       "      <td>53</td>\n",
       "      <td>19.4419740424,-99.1401449131</td>\n",
       "      <td>{\"type\": \"MultiPoint\", \"coordinates\": [[-99.14...</td>\n",
       "      <td>003_069_16</td>\n",
       "      <td>Cuautémoc</td>\n",
       "      <td>B</td>\n",
       "      <td>Hotel</td>\n",
       "      <td>Magnolia A</td>\n",
       "    </tr>\n",
       "    <tr>\n",
       "      <th>185</th>\n",
       "      <td>185</td>\n",
       "      <td>19.42697144,-99.1415371446</td>\n",
       "      <td>{\"type\": \"MultiPoint\", \"coordinates\": [[-99.14...</td>\n",
       "      <td>001_065_14</td>\n",
       "      <td>Cuautémoc</td>\n",
       "      <td>A</td>\n",
       "      <td>Hotel</td>\n",
       "      <td>Virreyes</td>\n",
       "    </tr>\n",
       "    <tr>\n",
       "      <th>58</th>\n",
       "      <td>58</td>\n",
       "      <td>19.4244380424,-99.1306732022</td>\n",
       "      <td>{\"type\": \"MultiPoint\", \"coordinates\": [[-99.13...</td>\n",
       "      <td>307_124_19</td>\n",
       "      <td>Cuautémoc</td>\n",
       "      <td>B</td>\n",
       "      <td>Hotel</td>\n",
       "      <td>Unico</td>\n",
       "    </tr>\n",
       "    <tr>\n",
       "      <th>219</th>\n",
       "      <td>219</td>\n",
       "      <td>19.4234096295,-99.1438351156</td>\n",
       "      <td>{\"type\": \"MultiPoint\", \"coordinates\": [[-99.14...</td>\n",
       "      <td>002_118_03</td>\n",
       "      <td>Cuautémoc</td>\n",
       "      <td>B</td>\n",
       "      <td>Hotel</td>\n",
       "      <td>Prado Floresta</td>\n",
       "    </tr>\n",
       "    <tr>\n",
       "      <th>142</th>\n",
       "      <td>142</td>\n",
       "      <td>19.4263681354,-99.1327278126</td>\n",
       "      <td>{\"type\": \"MultiPoint\", \"coordinates\": [[-99.13...</td>\n",
       "      <td>006_127_14</td>\n",
       "      <td>Cuautémoc</td>\n",
       "      <td>A</td>\n",
       "      <td>Hotel</td>\n",
       "      <td>Ambar</td>\n",
       "    </tr>\n",
       "  </tbody>\n",
       "</table>\n",
       "</div>"
      ],
      "text/plain": [
       "      id                  geo_point_2d  \\\n",
       "63    63  19.4339116282,-99.1468371035   \n",
       "86    86  19.4244645173,-99.1433325213   \n",
       "54    54  19.4263645964,-99.1399088724   \n",
       "53    53  19.4419740424,-99.1401449131   \n",
       "185  185    19.42697144,-99.1415371446   \n",
       "58    58  19.4244380424,-99.1306732022   \n",
       "219  219  19.4234096295,-99.1438351156   \n",
       "142  142  19.4263681354,-99.1327278126   \n",
       "\n",
       "                                             geo_shape   clave_cat delegacion  \\\n",
       "63   {\"type\": \"MultiPoint\", \"coordinates\": [[-99.14...  002_015_07  Cuautémoc   \n",
       "86   {\"type\": \"MultiPoint\", \"coordinates\": [[-99.14...  002_085_04  Cuautémoc   \n",
       "54   {\"type\": \"MultiPoint\", \"coordinates\": [[-99.13...  001_076_12  Cuautémoc   \n",
       "53   {\"type\": \"MultiPoint\", \"coordinates\": [[-99.14...  003_069_16  Cuautémoc   \n",
       "185  {\"type\": \"MultiPoint\", \"coordinates\": [[-99.14...  001_065_14  Cuautémoc   \n",
       "58   {\"type\": \"MultiPoint\", \"coordinates\": [[-99.13...  307_124_19  Cuautémoc   \n",
       "219  {\"type\": \"MultiPoint\", \"coordinates\": [[-99.14...  002_118_03  Cuautémoc   \n",
       "142  {\"type\": \"MultiPoint\", \"coordinates\": [[-99.13...  006_127_14  Cuautémoc   \n",
       "\n",
       "    perimetro   tipo                  nom_id  \n",
       "63          B  Hotel                  Calvin  \n",
       "86          B  Hotel                San Juan  \n",
       "54          B  Hotel  Cadillac, S.A. DE C.V.  \n",
       "53          B  Hotel              Magnolia A  \n",
       "185         A  Hotel                Virreyes  \n",
       "58          B  Hotel                   Unico  \n",
       "219         B  Hotel          Prado Floresta  \n",
       "142         A  Hotel                   Ambar  "
      ]
     },
     "execution_count": 6,
     "metadata": {},
     "output_type": "execute_result"
    }
   ],
   "source": [
    "aleat_8 = econdata.sample(n=8)\n",
    "aleat_8"
   ]
  },
  {
   "cell_type": "code",
   "execution_count": 7,
   "metadata": {},
   "outputs": [
    {
     "data": {
      "text/html": [
       "<div>\n",
       "<style scoped>\n",
       "    .dataframe tbody tr th:only-of-type {\n",
       "        vertical-align: middle;\n",
       "    }\n",
       "\n",
       "    .dataframe tbody tr th {\n",
       "        vertical-align: top;\n",
       "    }\n",
       "\n",
       "    .dataframe thead th {\n",
       "        text-align: right;\n",
       "    }\n",
       "</style>\n",
       "<table border=\"1\" class=\"dataframe\">\n",
       "  <thead>\n",
       "    <tr style=\"text-align: right;\">\n",
       "      <th></th>\n",
       "      <th>id</th>\n",
       "      <th>geo_point_2d</th>\n",
       "      <th>geo_shape</th>\n",
       "      <th>clave_cat</th>\n",
       "      <th>delegacion</th>\n",
       "      <th>perimetro</th>\n",
       "      <th>tipo</th>\n",
       "      <th>nom_id</th>\n",
       "    </tr>\n",
       "  </thead>\n",
       "  <tbody>\n",
       "    <tr>\n",
       "      <th>118</th>\n",
       "      <td>118</td>\n",
       "      <td>19.44371481,-99.14271352</td>\n",
       "      <td>{\"type\": \"MultiPoint\", \"coordinates\": [[-99.14...</td>\n",
       "      <td>003_050_07</td>\n",
       "      <td>Cuautémoc</td>\n",
       "      <td>B</td>\n",
       "      <td>Hotel</td>\n",
       "      <td>Manolete</td>\n",
       "    </tr>\n",
       "    <tr>\n",
       "      <th>2</th>\n",
       "      <td>2</td>\n",
       "      <td>19.4340695945,-99.1306348409</td>\n",
       "      <td>{\"type\": \"MultiPoint\", \"coordinates\": [[-99.13...</td>\n",
       "      <td>006_002_12</td>\n",
       "      <td>Cuautémoc</td>\n",
       "      <td>A</td>\n",
       "      <td>Museo</td>\n",
       "      <td>Santa Teresa</td>\n",
       "    </tr>\n",
       "    <tr>\n",
       "      <th>99</th>\n",
       "      <td>99</td>\n",
       "      <td>19.4438918423,-99.1402516182</td>\n",
       "      <td>{\"type\": \"MultiPoint\", \"coordinates\": [[-99.14...</td>\n",
       "      <td>003_052_18</td>\n",
       "      <td>Cuautémoc</td>\n",
       "      <td>B</td>\n",
       "      <td>Hotel</td>\n",
       "      <td>Drigales</td>\n",
       "    </tr>\n",
       "    <tr>\n",
       "      <th>170</th>\n",
       "      <td>170</td>\n",
       "      <td>19.43162145,-99.13535842</td>\n",
       "      <td>{\"type\": \"MultiPoint\", \"coordinates\": [[-99.13...</td>\n",
       "      <td>001_028_11</td>\n",
       "      <td>Cuautémoc</td>\n",
       "      <td>A</td>\n",
       "      <td>Hotel</td>\n",
       "      <td>NH Hoteles</td>\n",
       "    </tr>\n",
       "    <tr>\n",
       "      <th>62</th>\n",
       "      <td>62</td>\n",
       "      <td>19.4377973772,-99.1504216904</td>\n",
       "      <td>{\"type\": \"MultiPoint\", \"coordinates\": [[-99.15...</td>\n",
       "      <td>011_034_16</td>\n",
       "      <td>Cuautémoc</td>\n",
       "      <td>B</td>\n",
       "      <td>Hotel</td>\n",
       "      <td>Ramada Reforma</td>\n",
       "    </tr>\n",
       "  </tbody>\n",
       "</table>\n",
       "</div>"
      ],
      "text/plain": [
       "      id                  geo_point_2d  \\\n",
       "118  118      19.44371481,-99.14271352   \n",
       "2      2  19.4340695945,-99.1306348409   \n",
       "99    99  19.4438918423,-99.1402516182   \n",
       "170  170      19.43162145,-99.13535842   \n",
       "62    62  19.4377973772,-99.1504216904   \n",
       "\n",
       "                                             geo_shape   clave_cat delegacion  \\\n",
       "118  {\"type\": \"MultiPoint\", \"coordinates\": [[-99.14...  003_050_07  Cuautémoc   \n",
       "2    {\"type\": \"MultiPoint\", \"coordinates\": [[-99.13...  006_002_12  Cuautémoc   \n",
       "99   {\"type\": \"MultiPoint\", \"coordinates\": [[-99.14...  003_052_18  Cuautémoc   \n",
       "170  {\"type\": \"MultiPoint\", \"coordinates\": [[-99.13...  001_028_11  Cuautémoc   \n",
       "62   {\"type\": \"MultiPoint\", \"coordinates\": [[-99.15...  011_034_16  Cuautémoc   \n",
       "\n",
       "    perimetro   tipo          nom_id  \n",
       "118         B  Hotel        Manolete  \n",
       "2           A  Museo    Santa Teresa  \n",
       "99          B  Hotel        Drigales  \n",
       "170         A  Hotel      NH Hoteles  \n",
       "62          B  Hotel  Ramada Reforma  "
      ]
     },
     "execution_count": 7,
     "metadata": {},
     "output_type": "execute_result"
    }
   ],
   "source": [
    "prop_25 = econdata.sample(frac= .25)\n",
    "prop_25.head()"
   ]
  },
  {
   "cell_type": "markdown",
   "metadata": {},
   "source": [
    "## 2) Muestreo sistematico"
   ]
  },
  {
   "cell_type": "code",
   "execution_count": 8,
   "metadata": {},
   "outputs": [
    {
     "data": {
      "text/html": [
       "<div>\n",
       "<style scoped>\n",
       "    .dataframe tbody tr th:only-of-type {\n",
       "        vertical-align: middle;\n",
       "    }\n",
       "\n",
       "    .dataframe tbody tr th {\n",
       "        vertical-align: top;\n",
       "    }\n",
       "\n",
       "    .dataframe thead th {\n",
       "        text-align: right;\n",
       "    }\n",
       "</style>\n",
       "<table border=\"1\" class=\"dataframe\">\n",
       "  <thead>\n",
       "    <tr style=\"text-align: right;\">\n",
       "      <th></th>\n",
       "      <th>id</th>\n",
       "      <th>geo_point_2d</th>\n",
       "      <th>geo_shape</th>\n",
       "      <th>clave_cat</th>\n",
       "      <th>delegacion</th>\n",
       "      <th>perimetro</th>\n",
       "      <th>tipo</th>\n",
       "      <th>nom_id</th>\n",
       "    </tr>\n",
       "  </thead>\n",
       "  <tbody>\n",
       "    <tr>\n",
       "      <th>0</th>\n",
       "      <td>0</td>\n",
       "      <td>19.424781053,-99.1327537959</td>\n",
       "      <td>{\"type\": \"Polygon\", \"coordinates\": [[[-99.1332...</td>\n",
       "      <td>307_130_11</td>\n",
       "      <td>Cuauhtémoc</td>\n",
       "      <td>B</td>\n",
       "      <td>Mercado</td>\n",
       "      <td>Pino Suárez</td>\n",
       "    </tr>\n",
       "    <tr>\n",
       "      <th>3</th>\n",
       "      <td>3</td>\n",
       "      <td>19.42489472,-99.12073393</td>\n",
       "      <td>{\"type\": \"MultiPoint\", \"coordinates\": [[-99.12...</td>\n",
       "      <td>323_102_06</td>\n",
       "      <td>Venustiano Carranza</td>\n",
       "      <td>B</td>\n",
       "      <td>Hotel</td>\n",
       "      <td>Balbuena</td>\n",
       "    </tr>\n",
       "    <tr>\n",
       "      <th>6</th>\n",
       "      <td>6</td>\n",
       "      <td>19.43553422,-99.12324801</td>\n",
       "      <td>{\"type\": \"MultiPoint\", \"coordinates\": [[-99.12...</td>\n",
       "      <td>318_116_11</td>\n",
       "      <td>Venustiano Carranza</td>\n",
       "      <td>B</td>\n",
       "      <td>Hotel</td>\n",
       "      <td>San Antonio Tomatlan</td>\n",
       "    </tr>\n",
       "    <tr>\n",
       "      <th>9</th>\n",
       "      <td>9</td>\n",
       "      <td>19.4407152937,-99.1498060057</td>\n",
       "      <td>{\"type\": \"MultiPoint\", \"coordinates\": [[-99.14...</td>\n",
       "      <td>012_146_22</td>\n",
       "      <td>Cuautémoc</td>\n",
       "      <td>B</td>\n",
       "      <td>Hotel</td>\n",
       "      <td>Detroit</td>\n",
       "    </tr>\n",
       "    <tr>\n",
       "      <th>12</th>\n",
       "      <td>12</td>\n",
       "      <td>19.43990186,-99.14813347</td>\n",
       "      <td>{\"type\": \"MultiPoint\", \"coordinates\": [[-99.14...</td>\n",
       "      <td>003_079_16</td>\n",
       "      <td>Cuautémoc</td>\n",
       "      <td>B</td>\n",
       "      <td>Hotel</td>\n",
       "      <td>La Paz</td>\n",
       "    </tr>\n",
       "    <tr>\n",
       "      <th>...</th>\n",
       "      <td>...</td>\n",
       "      <td>...</td>\n",
       "      <td>...</td>\n",
       "      <td>...</td>\n",
       "      <td>...</td>\n",
       "      <td>...</td>\n",
       "      <td>...</td>\n",
       "      <td>...</td>\n",
       "    </tr>\n",
       "    <tr>\n",
       "      <th>216</th>\n",
       "      <td>216</td>\n",
       "      <td>19.4247697438,-99.1249707246</td>\n",
       "      <td>{\"type\": \"Polygon\", \"coordinates\": [[[-99.1250...</td>\n",
       "      <td>323_118_37</td>\n",
       "      <td>Venustiano Carranza</td>\n",
       "      <td>B</td>\n",
       "      <td>Mercado</td>\n",
       "      <td>Lamininas de La Merced</td>\n",
       "    </tr>\n",
       "    <tr>\n",
       "      <th>219</th>\n",
       "      <td>219</td>\n",
       "      <td>19.4234096295,-99.1438351156</td>\n",
       "      <td>{\"type\": \"MultiPoint\", \"coordinates\": [[-99.14...</td>\n",
       "      <td>002_118_03</td>\n",
       "      <td>Cuautémoc</td>\n",
       "      <td>B</td>\n",
       "      <td>Hotel</td>\n",
       "      <td>Prado Floresta</td>\n",
       "    </tr>\n",
       "    <tr>\n",
       "      <th>222</th>\n",
       "      <td>222</td>\n",
       "      <td>19.4397905042,-99.134628735</td>\n",
       "      <td>{\"type\": \"MultiPoint\", \"coordinates\": [[-99.13...</td>\n",
       "      <td>004_063_10</td>\n",
       "      <td>Cuautémoc</td>\n",
       "      <td>A</td>\n",
       "      <td>Hotel</td>\n",
       "      <td>Ladero</td>\n",
       "    </tr>\n",
       "    <tr>\n",
       "      <th>225</th>\n",
       "      <td>225</td>\n",
       "      <td>19.43094655,-99.12455418</td>\n",
       "      <td>{\"type\": \"MultiPoint\", \"coordinates\": [[-99.12...</td>\n",
       "      <td>323_027_04</td>\n",
       "      <td>Venustiano Carranza</td>\n",
       "      <td>B</td>\n",
       "      <td>Hotel</td>\n",
       "      <td>Gran Veracruz</td>\n",
       "    </tr>\n",
       "    <tr>\n",
       "      <th>228</th>\n",
       "      <td>228</td>\n",
       "      <td>19.4406567734,-99.1394531646</td>\n",
       "      <td>{\"type\": \"MultiPoint\", \"coordinates\": [[-99.13...</td>\n",
       "      <td>004_069_01</td>\n",
       "      <td>Cuautémoc</td>\n",
       "      <td>B</td>\n",
       "      <td>Museo</td>\n",
       "      <td>Tequila y Mescal</td>\n",
       "    </tr>\n",
       "  </tbody>\n",
       "</table>\n",
       "<p>77 rows × 8 columns</p>\n",
       "</div>"
      ],
      "text/plain": [
       "      id                  geo_point_2d  \\\n",
       "0      0   19.424781053,-99.1327537959   \n",
       "3      3      19.42489472,-99.12073393   \n",
       "6      6      19.43553422,-99.12324801   \n",
       "9      9  19.4407152937,-99.1498060057   \n",
       "12    12      19.43990186,-99.14813347   \n",
       "..   ...                           ...   \n",
       "216  216  19.4247697438,-99.1249707246   \n",
       "219  219  19.4234096295,-99.1438351156   \n",
       "222  222   19.4397905042,-99.134628735   \n",
       "225  225      19.43094655,-99.12455418   \n",
       "228  228  19.4406567734,-99.1394531646   \n",
       "\n",
       "                                             geo_shape   clave_cat  \\\n",
       "0    {\"type\": \"Polygon\", \"coordinates\": [[[-99.1332...  307_130_11   \n",
       "3    {\"type\": \"MultiPoint\", \"coordinates\": [[-99.12...  323_102_06   \n",
       "6    {\"type\": \"MultiPoint\", \"coordinates\": [[-99.12...  318_116_11   \n",
       "9    {\"type\": \"MultiPoint\", \"coordinates\": [[-99.14...  012_146_22   \n",
       "12   {\"type\": \"MultiPoint\", \"coordinates\": [[-99.14...  003_079_16   \n",
       "..                                                 ...         ...   \n",
       "216  {\"type\": \"Polygon\", \"coordinates\": [[[-99.1250...  323_118_37   \n",
       "219  {\"type\": \"MultiPoint\", \"coordinates\": [[-99.14...  002_118_03   \n",
       "222  {\"type\": \"MultiPoint\", \"coordinates\": [[-99.13...  004_063_10   \n",
       "225  {\"type\": \"MultiPoint\", \"coordinates\": [[-99.12...  323_027_04   \n",
       "228  {\"type\": \"MultiPoint\", \"coordinates\": [[-99.13...  004_069_01   \n",
       "\n",
       "              delegacion perimetro     tipo                  nom_id  \n",
       "0             Cuauhtémoc         B  Mercado             Pino Suárez  \n",
       "3    Venustiano Carranza         B    Hotel                Balbuena  \n",
       "6    Venustiano Carranza         B    Hotel    San Antonio Tomatlan  \n",
       "9              Cuautémoc         B    Hotel                 Detroit  \n",
       "12             Cuautémoc         B    Hotel                  La Paz  \n",
       "..                   ...       ...      ...                     ...  \n",
       "216  Venustiano Carranza         B  Mercado  Lamininas de La Merced  \n",
       "219            Cuautémoc         B    Hotel          Prado Floresta  \n",
       "222            Cuautémoc         A    Hotel                  Ladero  \n",
       "225  Venustiano Carranza         B    Hotel           Gran Veracruz  \n",
       "228            Cuautémoc         B    Museo        Tequila y Mescal  \n",
       "\n",
       "[77 rows x 8 columns]"
      ]
     },
     "execution_count": 8,
     "metadata": {},
     "output_type": "execute_result"
    }
   ],
   "source": [
    "def systematic_sampling(econdata, step):\n",
    "    indexes = np.arange(0, len(econdata), step= step)\n",
    "    systematic_sample = econdata.iloc[indexes]\n",
    "    return systematic_sample\n",
    "\n",
    "systematic_sample = systematic_sampling(econdata, 3)\n",
    "systematic_sample"
   ]
  },
  {
   "cell_type": "markdown",
   "metadata": {},
   "source": [
    "## 3) Muestreo estratificado"
   ]
  },
  {
   "cell_type": "code",
   "execution_count": 9,
   "metadata": {},
   "outputs": [
    {
     "data": {
      "text/plain": [
       "Cuautémoc,Hotel                0.643478\n",
       "Cuautémoc,Museo                0.156522\n",
       "Venustiano Carranza,Hotel      0.078261\n",
       "Cuauhtémoc,Mercado             0.073913\n",
       "Venustiano Carranza,Mercado    0.047826\n",
       "Name: estratificado, dtype: float64"
      ]
     },
     "execution_count": 9,
     "metadata": {},
     "output_type": "execute_result"
    }
   ],
   "source": [
    "econdata['estratificado'] = econdata['delegacion'] + \",\" + econdata['tipo']\n",
    "(econdata['estratificado'].value_counts()/len(econdata)).sort_values(ascending= False)"
   ]
  },
  {
   "cell_type": "markdown",
   "metadata": {},
   "source": [
    "Nuestros datos dicen que la proporcion es la siguiente:\n",
    "1) Hoteles de Cuauhtémoc 0.5\n",
    "2) Mueseo de Cuauhtémoc 0.2\n",
    "3) Hoteles de  Venustiana Carranza 0.1\n",
    "4) Mercados de Cuauhtémoc 0.1 \n",
    "5) Mercados de Venustiana Carranza 0.1"
   ]
  },
  {
   "cell_type": "code",
   "execution_count": 10,
   "metadata": {},
   "outputs": [],
   "source": [
    "from dataclasses import replace\n",
    "\n",
    "\n",
    "def data_estratificada(econdata, nombres_columnas_estrat, valores_estrat, prop_estrat, random_state=None):\n",
    "    df_estrat = pd.DataFrame(columns= econdata.columns)\n",
    "\n",
    "    pos = -1\n",
    "    for i in range(len(valores_estrat)):   \n",
    "        pos += 1\n",
    "        if pos == len(valores_estrat) - 1:\n",
    "            ratio_len = len(econdata) - len(df_estrat)\n",
    "        else:\n",
    "            ratio_len = int(len(econdata) * prop_estrat[i])\n",
    "\n",
    "        df_filtrado = econdata[econdata[nombres_columnas_estrat] == valores_estrat[i]]\n",
    "        df_temp = df_filtrado.sample(replace=True, n=ratio_len, random_state=random_state)\n",
    "\n",
    "        df_estrat = pd.concat([df_estrat, df_temp])\n",
    "    return df_estrat "
   ]
  },
  {
   "cell_type": "code",
   "execution_count": 11,
   "metadata": {},
   "outputs": [],
   "source": [
    "valores_estrat = ['Cuautémoc,Hotel', 'Cuautémoc,Museo', 'Venustiano Carranza,Hotel', 'Cuauhtémoc,Mercado', 'Venustiano Carranza,Mercado']\n",
    "prop_estrat = [0.5, 0.2, 0.1, 0.1, 0.1]\n",
    "df_estrat = data_estratificada(econdata, 'estratificado', valores_estrat, prop_estrat, random_state = 42)"
   ]
  },
  {
   "cell_type": "code",
   "execution_count": 12,
   "metadata": {},
   "outputs": [],
   "source": [
    "a = np.array([7, 10, 12, 13, 16, 9, 8, 12, 8, 6, 16, 23, 11, 17, 20, 21, 25, 30, 31, 33, 37, 39, 27, 36, 40, 43, 41, 45])\n"
   ]
  },
  {
   "cell_type": "code",
   "execution_count": 13,
   "metadata": {},
   "outputs": [
    {
     "name": "stdout",
     "output_type": "stream",
     "text": [
      "155.06122448979593 12.452358189909088\n"
     ]
    }
   ],
   "source": [
    "variance= np.var(a)\n",
    "desv=np.std(a)\n",
    "print(variance, desv)"
   ]
  },
  {
   "cell_type": "markdown",
   "metadata": {},
   "source": [
    "## Varianza y desviación estandar"
   ]
  },
  {
   "cell_type": "code",
   "execution_count": 14,
   "metadata": {},
   "outputs": [],
   "source": [
    "import matplotlib.pyplot as plt\n",
    "import seaborn as sns"
   ]
  },
  {
   "cell_type": "markdown",
   "metadata": {},
   "source": [
    "## Leemos la base da datos a trabajar en nuestra ruta de origen"
   ]
  },
  {
   "cell_type": "code",
   "execution_count": 15,
   "metadata": {},
   "outputs": [],
   "source": [
    "url = 'https://archive.ics.uci.edu/ml/machine-learning-databases/iris/iris.data'\n",
    "names = ['sepal-length', 'sepal-width', 'petal-length', 'petal-width', 'class']\n",
    "iris = pd.read_csv(url, names = names)"
   ]
  },
  {
   "cell_type": "code",
   "execution_count": 16,
   "metadata": {},
   "outputs": [
    {
     "data": {
      "text/html": [
       "<div>\n",
       "<style scoped>\n",
       "    .dataframe tbody tr th:only-of-type {\n",
       "        vertical-align: middle;\n",
       "    }\n",
       "\n",
       "    .dataframe tbody tr th {\n",
       "        vertical-align: top;\n",
       "    }\n",
       "\n",
       "    .dataframe thead th {\n",
       "        text-align: right;\n",
       "    }\n",
       "</style>\n",
       "<table border=\"1\" class=\"dataframe\">\n",
       "  <thead>\n",
       "    <tr style=\"text-align: right;\">\n",
       "      <th></th>\n",
       "      <th>sepal-length</th>\n",
       "      <th>sepal-width</th>\n",
       "      <th>petal-length</th>\n",
       "      <th>petal-width</th>\n",
       "      <th>class</th>\n",
       "    </tr>\n",
       "  </thead>\n",
       "  <tbody>\n",
       "    <tr>\n",
       "      <th>0</th>\n",
       "      <td>5.1</td>\n",
       "      <td>3.5</td>\n",
       "      <td>1.4</td>\n",
       "      <td>0.2</td>\n",
       "      <td>Iris-setosa</td>\n",
       "    </tr>\n",
       "    <tr>\n",
       "      <th>1</th>\n",
       "      <td>4.9</td>\n",
       "      <td>3.0</td>\n",
       "      <td>1.4</td>\n",
       "      <td>0.2</td>\n",
       "      <td>Iris-setosa</td>\n",
       "    </tr>\n",
       "    <tr>\n",
       "      <th>2</th>\n",
       "      <td>4.7</td>\n",
       "      <td>3.2</td>\n",
       "      <td>1.3</td>\n",
       "      <td>0.2</td>\n",
       "      <td>Iris-setosa</td>\n",
       "    </tr>\n",
       "    <tr>\n",
       "      <th>3</th>\n",
       "      <td>4.6</td>\n",
       "      <td>3.1</td>\n",
       "      <td>1.5</td>\n",
       "      <td>0.2</td>\n",
       "      <td>Iris-setosa</td>\n",
       "    </tr>\n",
       "    <tr>\n",
       "      <th>4</th>\n",
       "      <td>5.0</td>\n",
       "      <td>3.6</td>\n",
       "      <td>1.4</td>\n",
       "      <td>0.2</td>\n",
       "      <td>Iris-setosa</td>\n",
       "    </tr>\n",
       "  </tbody>\n",
       "</table>\n",
       "</div>"
      ],
      "text/plain": [
       "   sepal-length  sepal-width  petal-length  petal-width        class\n",
       "0           5.1          3.5           1.4          0.2  Iris-setosa\n",
       "1           4.9          3.0           1.4          0.2  Iris-setosa\n",
       "2           4.7          3.2           1.3          0.2  Iris-setosa\n",
       "3           4.6          3.1           1.5          0.2  Iris-setosa\n",
       "4           5.0          3.6           1.4          0.2  Iris-setosa"
      ]
     },
     "execution_count": 16,
     "metadata": {},
     "output_type": "execute_result"
    }
   ],
   "source": [
    "iris.head()"
   ]
  },
  {
   "cell_type": "code",
   "execution_count": 47,
   "metadata": {},
   "outputs": [
    {
     "data": {
      "image/png": "[encoded data removed]",
      "text/plain": [
       "<Figure size 432x288 with 6 Axes>"
      ]
     },
     "metadata": {
      "needs_background": "light"
     },
     "output_type": "display_data"
    }
   ],
   "source": [
    "fig, axs = plt.subplots(2,3)\n",
    "axs[0,0].hist(iris['sepal-length'], color= 'blue', bins= int(180/5))\n",
    "axs[0,1].hist(iris['petal-length'], color= 'blue', bins= int(180/5))\n",
    "axs[0,2].hist(iris['class'], color= 'blue', bins= int(180/5))\n",
    "axs[1,0].hist(iris['sepal-width'], color= 'red', bins= int(180/5))\n",
    "axs[1,1].hist(iris['petal-width'], color= 'red', bins= int(180/5))\n",
    "plt.show()"
   ]
  },
  {
   "cell_type": "code",
   "execution_count": 42,
   "metadata": {},
   "outputs": [
    {
     "data": {
      "text/plain": [
       "<function matplotlib.pyplot.show(close=None, block=None)>"
      ]
     },
     "execution_count": 42,
     "metadata": {},
     "output_type": "execute_result"
    },
    {
     "data": {
      "image/png": "[encoded data removed]",
      "text/plain": [
       "<Figure size 360x360 with 1 Axes>"
      ]
     },
     "metadata": {
      "needs_background": "light"
     },
     "output_type": "display_data"
    }
   ],
   "source": [
    "\n",
    "sns.displot(iris['sepal-length'], kde = True, bins = int(180/5), color = 'blue')\n",
    "plt.show"
   ]
  },
  {
   "cell_type": "markdown",
   "metadata": {},
   "source": [
    "## Cálculo Varianza"
   ]
  },
  {
   "cell_type": "code",
   "execution_count": 49,
   "metadata": {},
   "outputs": [
    {
     "name": "stdout",
     "output_type": "stream",
     "text": [
      "sepal-length var: 0.6856935123042507\n",
      "sepal-width var: 0.1880040268456376\n",
      "petal-length var: 3.113179418344519\n",
      "petal-width var: 0.582414317673378\n"
     ]
    }
   ],
   "source": [
    "print(\"sepal-length var:\",iris['sepal-length'].var())\n",
    "print(\"sepal-width var:\",iris['sepal-width'].var())\n",
    "print(\"petal-length var:\",iris['petal-length'].var())\n",
    "print(\"petal-width var:\",iris['petal-width'].var())"
   ]
  },
  {
   "cell_type": "markdown",
   "metadata": {},
   "source": [
    "## Cálculo de desviación estandar"
   ]
  },
  {
   "cell_type": "code",
   "execution_count": 51,
   "metadata": {},
   "outputs": [
    {
     "name": "stdout",
     "output_type": "stream",
     "text": [
      "sepal-length std: 0.828066127977863\n",
      "sepal-width std: 0.4335943113621737\n",
      "petal-length std: 1.7644204199522626\n",
      "petal-width std: 0.7631607417008411\n"
     ]
    }
   ],
   "source": [
    "print(\"sepal-length std:\",iris['sepal-length'].std())\n",
    "print(\"sepal-width std:\",iris['sepal-width'].std())\n",
    "print(\"petal-length std:\",iris['petal-length'].std())\n",
    "print(\"petal-width std:\",iris['petal-width'].std())"
   ]
  },
  {
   "cell_type": "markdown",
   "metadata": {},
   "source": [
    "## Media"
   ]
  },
  {
   "cell_type": "code",
   "execution_count": 52,
   "metadata": {},
   "outputs": [
    {
     "name": "stdout",
     "output_type": "stream",
     "text": [
      "sepal-length mean: 5.843333333333334\n",
      "sepal-width mean: 3.0540000000000003\n",
      "petal-length mean: 3.758666666666666\n",
      "petal-width mean: 1.1986666666666668\n"
     ]
    }
   ],
   "source": [
    "print(\"sepal-length mean:\",iris['sepal-length'].mean())\n",
    "print(\"sepal-width mean:\",iris['sepal-width'].mean())\n",
    "print(\"petal-length mean:\",iris['petal-length'].mean())\n",
    "print(\"petal-width mean:\",iris['petal-width'].mean())"
   ]
  },
  {
   "cell_type": "markdown",
   "metadata": {},
   "source": [
    "## Creación de muestra mediante Muestreo Aleatorio Simple"
   ]
  },
  {
   "cell_type": "code",
   "execution_count": 35,
   "metadata": {},
   "outputs": [
    {
     "data": {
      "text/html": [
       "<div>\n",
       "<style scoped>\n",
       "    .dataframe tbody tr th:only-of-type {\n",
       "        vertical-align: middle;\n",
       "    }\n",
       "\n",
       "    .dataframe tbody tr th {\n",
       "        vertical-align: top;\n",
       "    }\n",
       "\n",
       "    .dataframe thead th {\n",
       "        text-align: right;\n",
       "    }\n",
       "</style>\n",
       "<table border=\"1\" class=\"dataframe\">\n",
       "  <thead>\n",
       "    <tr style=\"text-align: right;\">\n",
       "      <th></th>\n",
       "      <th>sepal-length</th>\n",
       "      <th>sepal-width</th>\n",
       "      <th>petal-length</th>\n",
       "      <th>petal-width</th>\n",
       "      <th>class</th>\n",
       "    </tr>\n",
       "  </thead>\n",
       "  <tbody>\n",
       "    <tr>\n",
       "      <th>147</th>\n",
       "      <td>6.5</td>\n",
       "      <td>3.0</td>\n",
       "      <td>5.2</td>\n",
       "      <td>2.0</td>\n",
       "      <td>Iris-virginica</td>\n",
       "    </tr>\n",
       "    <tr>\n",
       "      <th>80</th>\n",
       "      <td>5.5</td>\n",
       "      <td>2.4</td>\n",
       "      <td>3.8</td>\n",
       "      <td>1.1</td>\n",
       "      <td>Iris-versicolor</td>\n",
       "    </tr>\n",
       "    <tr>\n",
       "      <th>94</th>\n",
       "      <td>5.6</td>\n",
       "      <td>2.7</td>\n",
       "      <td>4.2</td>\n",
       "      <td>1.3</td>\n",
       "      <td>Iris-versicolor</td>\n",
       "    </tr>\n",
       "    <tr>\n",
       "      <th>124</th>\n",
       "      <td>6.7</td>\n",
       "      <td>3.3</td>\n",
       "      <td>5.7</td>\n",
       "      <td>2.1</td>\n",
       "      <td>Iris-virginica</td>\n",
       "    </tr>\n",
       "    <tr>\n",
       "      <th>51</th>\n",
       "      <td>6.4</td>\n",
       "      <td>3.2</td>\n",
       "      <td>4.5</td>\n",
       "      <td>1.5</td>\n",
       "      <td>Iris-versicolor</td>\n",
       "    </tr>\n",
       "    <tr>\n",
       "      <th>...</th>\n",
       "      <td>...</td>\n",
       "      <td>...</td>\n",
       "      <td>...</td>\n",
       "      <td>...</td>\n",
       "      <td>...</td>\n",
       "    </tr>\n",
       "    <tr>\n",
       "      <th>128</th>\n",
       "      <td>6.4</td>\n",
       "      <td>2.8</td>\n",
       "      <td>5.6</td>\n",
       "      <td>2.1</td>\n",
       "      <td>Iris-virginica</td>\n",
       "    </tr>\n",
       "    <tr>\n",
       "      <th>120</th>\n",
       "      <td>6.9</td>\n",
       "      <td>3.2</td>\n",
       "      <td>5.7</td>\n",
       "      <td>2.3</td>\n",
       "      <td>Iris-virginica</td>\n",
       "    </tr>\n",
       "    <tr>\n",
       "      <th>93</th>\n",
       "      <td>5.0</td>\n",
       "      <td>2.3</td>\n",
       "      <td>3.3</td>\n",
       "      <td>1.0</td>\n",
       "      <td>Iris-versicolor</td>\n",
       "    </tr>\n",
       "    <tr>\n",
       "      <th>49</th>\n",
       "      <td>5.0</td>\n",
       "      <td>3.3</td>\n",
       "      <td>1.4</td>\n",
       "      <td>0.2</td>\n",
       "      <td>Iris-setosa</td>\n",
       "    </tr>\n",
       "    <tr>\n",
       "      <th>114</th>\n",
       "      <td>5.8</td>\n",
       "      <td>2.8</td>\n",
       "      <td>5.1</td>\n",
       "      <td>2.4</td>\n",
       "      <td>Iris-virginica</td>\n",
       "    </tr>\n",
       "  </tbody>\n",
       "</table>\n",
       "<p>75 rows × 5 columns</p>\n",
       "</div>"
      ],
      "text/plain": [
       "     sepal-length  sepal-width  petal-length  petal-width            class\n",
       "147           6.5          3.0           5.2          2.0   Iris-virginica\n",
       "80            5.5          2.4           3.8          1.1  Iris-versicolor\n",
       "94            5.6          2.7           4.2          1.3  Iris-versicolor\n",
       "124           6.7          3.3           5.7          2.1   Iris-virginica\n",
       "51            6.4          3.2           4.5          1.5  Iris-versicolor\n",
       "..            ...          ...           ...          ...              ...\n",
       "128           6.4          2.8           5.6          2.1   Iris-virginica\n",
       "120           6.9          3.2           5.7          2.3   Iris-virginica\n",
       "93            5.0          2.3           3.3          1.0  Iris-versicolor\n",
       "49            5.0          3.3           1.4          0.2      Iris-setosa\n",
       "114           5.8          2.8           5.1          2.4   Iris-virginica\n",
       "\n",
       "[75 rows x 5 columns]"
      ]
     },
     "execution_count": 35,
     "metadata": {},
     "output_type": "execute_result"
    }
   ],
   "source": [
    "muestra = iris.sample(frac=0.5)\n",
    "muestra"
   ]
  },
  {
   "cell_type": "markdown",
   "metadata": {},
   "source": [
    "## Cálculo de la varianza"
   ]
  },
  {
   "cell_type": "code",
   "execution_count": 56,
   "metadata": {},
   "outputs": [
    {
     "name": "stdout",
     "output_type": "stream",
     "text": [
      "sepal-length var: 0.631664864864865\n",
      "sepal-width var: 0.1633081081081081\n",
      "petal-length var: 3.0895495495495497\n",
      "petal-width var: 0.5816864864864866\n"
     ]
    }
   ],
   "source": [
    "\n",
    "print(\"sepal-length var:\",muestra['sepal-length'].var())\n",
    "print(\"sepal-width var:\",muestra['sepal-width'].var())\n",
    "print(\"petal-length var:\",muestra['petal-length'].var())\n",
    "print(\"petal-width var:\",muestra['petal-width'].var())"
   ]
  },
  {
   "cell_type": "markdown",
   "metadata": {},
   "source": [
    "## Cálculo de la desviación estandar"
   ]
  },
  {
   "cell_type": "code",
   "execution_count": 55,
   "metadata": {},
   "outputs": [
    {
     "name": "stdout",
     "output_type": "stream",
     "text": [
      "sepal-length std: 0.7947734676402233\n",
      "sepal-width std: 0.40411397910503927\n",
      "petal-length std: 1.7577114523008461\n",
      "petal-width std: 0.7626837394926462\n"
     ]
    }
   ],
   "source": [
    "\n",
    "print(\"sepal-length std:\",muestra['sepal-length'].std())\n",
    "print(\"sepal-width std:\",muestra['sepal-width'].std())\n",
    "print(\"petal-length std:\",muestra['petal-length'].std())\n",
    "print(\"petal-width std:\",muestra['petal-width'].std())"
   ]
  },
  {
   "cell_type": "code",
   "execution_count": 57,
   "metadata": {},
   "outputs": [
    {
     "name": "stdout",
     "output_type": "stream",
     "text": [
      "sepal-length mean: 5.932\n",
      "sepal-width mean: 3.0560000000000005\n",
      "petal-length mean: 3.8933333333333335\n",
      "petal-width mean: 1.256\n"
     ]
    }
   ],
   "source": [
    "muestra['sepal-length'].mean()\n",
    "print(\"sepal-length mean:\",muestra['sepal-length'].mean())\n",
    "print(\"sepal-width mean:\",muestra['sepal-width'].mean())\n",
    "print(\"petal-length mean:\",muestra['petal-length'].mean())\n",
    "print(\"petal-width mean:\",muestra['petal-width'].mean())"
   ]
  }
 ],
 "metadata": {
  "kernelspec": {
   "display_name": "Python 3.10.6 64-bit (windows store)",
   "language": "python",
   "name": "python3"
  },
  "language_info": {
   "codemirror_mode": {
    "name": "ipython",
    "version": 3
   },
   "file_extension": ".py",
   "mimetype": "text/x-python",
   "name": "python",
   "nbconvert_exporter": "python",
   "pygments_lexer": "ipython3",
   "version": "3.10.6"
  },
  "orig_nbformat": 4,
  "vscode": {
   "interpreter": {
    "hash": "602bbe8e8fe3127dc2d2bb8f57c49cfbb507be2cc0e090f10eb4c4d0af354b8b"
   }
  }
 },
 "nbformat": 4,
 "nbformat_minor": 2
}
